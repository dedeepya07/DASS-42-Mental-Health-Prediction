{
  "nbformat": 4,
  "nbformat_minor": 0,
  "metadata": {
    "colab": {
      "provenance": [],
      "authorship_tag": "ABX9TyNXMlSwDf7183L/O4LmGVdN",
      "include_colab_link": true
    },
    "kernelspec": {
      "name": "python3",
      "display_name": "Python 3"
    },
    "language_info": {
      "name": "python"
    }
  },
  "cells": [
    {
      "cell_type": "markdown",
      "metadata": {
        "id": "view-in-github",
        "colab_type": "text"
      },
      "source": [
        "<a href=\"https://colab.research.google.com/github/dedeepya07/DASS-42-Mental-Health-Prediction/blob/main/dass_42_ml_prediction.ipynb\" target=\"_parent\"><img src=\"https://colab.research.google.com/assets/colab-badge.svg\" alt=\"Open In Colab\"/></a>"
      ]
    },
    {
      "cell_type": "code",
      "execution_count": null,
      "metadata": {
        "id": "cQKzWPxBiHgO"
      },
      "outputs": [],
      "source": [
        "import pandas as pd\n",
        "import numpy as np\n",
        "import matplotlib.pyplot as plt\n",
        "import seaborn as sns"
      ]
    },
    {
      "cell_type": "code",
      "source": [
        "data = pd.read_csv(\"/content/data.csv\", sep='\\t', low_memory=False )"
      ],
      "metadata": {
        "id": "gXzotoOtirBS"
      },
      "execution_count": null,
      "outputs": []
    },
    {
      "cell_type": "code",
      "source": [
        "data.info()\n",
        "print(list(data.columns))"
      ],
      "metadata": {
        "colab": {
          "base_uri": "https://localhost:8080/"
        },
        "id": "AHfwEjgIi3MZ",
        "outputId": "661910fa-50d7-49c4-8b97-1151346a0dcb"
      },
      "execution_count": null,
      "outputs": [
        {
          "output_type": "stream",
          "name": "stdout",
          "text": [
            "<class 'pandas.core.frame.DataFrame'>\n",
            "RangeIndex: 39775 entries, 0 to 39774\n",
            "Columns: 172 entries, Q1A to major\n",
            "dtypes: int64(170), object(2)\n",
            "memory usage: 52.2+ MB\n",
            "['Q1A', 'Q1I', 'Q1E', 'Q2A', 'Q2I', 'Q2E', 'Q3A', 'Q3I', 'Q3E', 'Q4A', 'Q4I', 'Q4E', 'Q5A', 'Q5I', 'Q5E', 'Q6A', 'Q6I', 'Q6E', 'Q7A', 'Q7I', 'Q7E', 'Q8A', 'Q8I', 'Q8E', 'Q9A', 'Q9I', 'Q9E', 'Q10A', 'Q10I', 'Q10E', 'Q11A', 'Q11I', 'Q11E', 'Q12A', 'Q12I', 'Q12E', 'Q13A', 'Q13I', 'Q13E', 'Q14A', 'Q14I', 'Q14E', 'Q15A', 'Q15I', 'Q15E', 'Q16A', 'Q16I', 'Q16E', 'Q17A', 'Q17I', 'Q17E', 'Q18A', 'Q18I', 'Q18E', 'Q19A', 'Q19I', 'Q19E', 'Q20A', 'Q20I', 'Q20E', 'Q21A', 'Q21I', 'Q21E', 'Q22A', 'Q22I', 'Q22E', 'Q23A', 'Q23I', 'Q23E', 'Q24A', 'Q24I', 'Q24E', 'Q25A', 'Q25I', 'Q25E', 'Q26A', 'Q26I', 'Q26E', 'Q27A', 'Q27I', 'Q27E', 'Q28A', 'Q28I', 'Q28E', 'Q29A', 'Q29I', 'Q29E', 'Q30A', 'Q30I', 'Q30E', 'Q31A', 'Q31I', 'Q31E', 'Q32A', 'Q32I', 'Q32E', 'Q33A', 'Q33I', 'Q33E', 'Q34A', 'Q34I', 'Q34E', 'Q35A', 'Q35I', 'Q35E', 'Q36A', 'Q36I', 'Q36E', 'Q37A', 'Q37I', 'Q37E', 'Q38A', 'Q38I', 'Q38E', 'Q39A', 'Q39I', 'Q39E', 'Q40A', 'Q40I', 'Q40E', 'Q41A', 'Q41I', 'Q41E', 'Q42A', 'Q42I', 'Q42E', 'country', 'source', 'introelapse', 'testelapse', 'surveyelapse', 'TIPI1', 'TIPI2', 'TIPI3', 'TIPI4', 'TIPI5', 'TIPI6', 'TIPI7', 'TIPI8', 'TIPI9', 'TIPI10', 'VCL1', 'VCL2', 'VCL3', 'VCL4', 'VCL5', 'VCL6', 'VCL7', 'VCL8', 'VCL9', 'VCL10', 'VCL11', 'VCL12', 'VCL13', 'VCL14', 'VCL15', 'VCL16', 'education', 'urban', 'gender', 'engnat', 'age', 'screensize', 'uniquenetworklocation', 'hand', 'religion', 'orientation', 'race', 'voted', 'married', 'familysize', 'major']\n"
          ]
        }
      ]
    },
    {
      "cell_type": "code",
      "source": [
        "print(data)"
      ],
      "metadata": {
        "colab": {
          "base_uri": "https://localhost:8080/"
        },
        "id": "_5EUQPy8i6ur",
        "outputId": "e4759055-c4a5-4f4b-f4cc-224c80e45dfd"
      },
      "execution_count": null,
      "outputs": [
        {
          "output_type": "stream",
          "name": "stdout",
          "text": [
            "       Q1A  Q1I    Q1E  Q2A  Q2I   Q2E  Q3A  Q3I    Q3E  Q4A  ...  screensize  \\\n",
            "0        4   28   3890    4   25  2122    2   16   1944    4  ...           1   \n",
            "1        4    2   8118    1   36  2890    2   35   4777    3  ...           2   \n",
            "2        3    7   5784    1   33  4373    4   41   3242    1  ...           2   \n",
            "3        2   23   5081    3   11  6837    2   37   5521    1  ...           2   \n",
            "4        2   36   3215    2   13  7731    3    5   4156    4  ...           2   \n",
            "...    ...  ...    ...  ...  ...   ...  ...  ...    ...  ...  ...         ...   \n",
            "39770    2   31   3287    1    5  2216    3   29   3895    2  ...           2   \n",
            "39771    3   14   4792    4   41  2604    3   15   2668    4  ...           1   \n",
            "39772    2    1  25147    1    4  4555    2   14   3388    1  ...           2   \n",
            "39773    3   36   4286    1   34  2736    2   10   5968    2  ...           2   \n",
            "39774    2   28  32251    1   22  3317    2    4  11734    1  ...           1   \n",
            "\n",
            "       uniquenetworklocation  hand  religion  orientation  race  voted  \\\n",
            "0                          1     1        12            1    10      2   \n",
            "1                          1     2         7            0    70      2   \n",
            "2                          1     1         4            3    60      1   \n",
            "3                          1     2         4            5    70      2   \n",
            "4                          2     3        10            1    10      2   \n",
            "...                      ...   ...       ...          ...   ...    ...   \n",
            "39770                      1     1         2            4    60      2   \n",
            "39771                      1     1        10            0    10      2   \n",
            "39772                      1     1         7            1    30      1   \n",
            "39773                      1     1         6            1    60      1   \n",
            "39774                      1     1        10            1    10      1   \n",
            "\n",
            "       married  familysize              major  \n",
            "0            1           2                NaN  \n",
            "1            1           4                NaN  \n",
            "2            1           3                NaN  \n",
            "3            1           5            biology  \n",
            "4            1           4         Psychology  \n",
            "...        ...         ...                ...  \n",
            "39770        1           2                NaN  \n",
            "39771        1           4         Mathematic  \n",
            "39772        2           3   Computer Science  \n",
            "39773        1           2            History  \n",
            "39774        1           4  Cognitive Science  \n",
            "\n",
            "[39775 rows x 172 columns]\n"
          ]
        }
      ]
    },
    {
      "cell_type": "code",
      "source": [
        "type(data)"
      ],
      "metadata": {
        "colab": {
          "base_uri": "https://localhost:8080/",
          "height": 203
        },
        "id": "7zx0hFb6i_Bc",
        "outputId": "388449c2-6922-409c-bb14-f3920839f923"
      },
      "execution_count": null,
      "outputs": [
        {
          "output_type": "execute_result",
          "data": {
            "text/plain": [
              "pandas.core.frame.DataFrame"
            ],
            "text/html": [
              "<div style=\"max-width:800px; border: 1px solid var(--colab-border-color);\"><style>\n",
              "      pre.function-repr-contents {\n",
              "        overflow-x: auto;\n",
              "        padding: 8px 12px;\n",
              "        max-height: 500px;\n",
              "      }\n",
              "\n",
              "      pre.function-repr-contents.function-repr-contents-collapsed {\n",
              "        cursor: pointer;\n",
              "        max-height: 100px;\n",
              "      }\n",
              "    </style>\n",
              "    <pre style=\"white-space: initial; background:\n",
              "         var(--colab-secondary-surface-color); padding: 8px 12px;\n",
              "         border-bottom: 1px solid var(--colab-border-color);\"><b>pandas.core.frame.DataFrame</b><br/>def __init__(data=None, index: Axes | None=None, columns: Axes | None=None, dtype: Dtype | None=None, copy: bool | None=None) -&gt; None</pre><pre class=\"function-repr-contents function-repr-contents-collapsed\" style=\"\"><a class=\"filepath\" style=\"display:none\" href=\"#\">/usr/local/lib/python3.11/dist-packages/pandas/core/frame.py</a>Two-dimensional, size-mutable, potentially heterogeneous tabular data.\n",
              "\n",
              "Data structure also contains labeled axes (rows and columns).\n",
              "Arithmetic operations align on both row and column labels. Can be\n",
              "thought of as a dict-like container for Series objects. The primary\n",
              "pandas data structure.\n",
              "\n",
              "Parameters\n",
              "----------\n",
              "data : ndarray (structured or homogeneous), Iterable, dict, or DataFrame\n",
              "    Dict can contain Series, arrays, constants, dataclass or list-like objects. If\n",
              "    data is a dict, column order follows insertion-order. If a dict contains Series\n",
              "    which have an index defined, it is aligned by its index. This alignment also\n",
              "    occurs if data is a Series or a DataFrame itself. Alignment is done on\n",
              "    Series/DataFrame inputs.\n",
              "\n",
              "    If data is a list of dicts, column order follows insertion-order.\n",
              "\n",
              "index : Index or array-like\n",
              "    Index to use for resulting frame. Will default to RangeIndex if\n",
              "    no indexing information part of input data and no index provided.\n",
              "columns : Index or array-like\n",
              "    Column labels to use for resulting frame when data does not have them,\n",
              "    defaulting to RangeIndex(0, 1, 2, ..., n). If data contains column labels,\n",
              "    will perform column selection instead.\n",
              "dtype : dtype, default None\n",
              "    Data type to force. Only a single dtype is allowed. If None, infer.\n",
              "copy : bool or None, default None\n",
              "    Copy data from inputs.\n",
              "    For dict data, the default of None behaves like ``copy=True``.  For DataFrame\n",
              "    or 2d ndarray input, the default of None behaves like ``copy=False``.\n",
              "    If data is a dict containing one or more Series (possibly of different dtypes),\n",
              "    ``copy=False`` will ensure that these inputs are not copied.\n",
              "\n",
              "    .. versionchanged:: 1.3.0\n",
              "\n",
              "See Also\n",
              "--------\n",
              "DataFrame.from_records : Constructor from tuples, also record arrays.\n",
              "DataFrame.from_dict : From dicts of Series, arrays, or dicts.\n",
              "read_csv : Read a comma-separated values (csv) file into DataFrame.\n",
              "read_table : Read general delimited file into DataFrame.\n",
              "read_clipboard : Read text from clipboard into DataFrame.\n",
              "\n",
              "Notes\n",
              "-----\n",
              "Please reference the :ref:`User Guide &lt;basics.dataframe&gt;` for more information.\n",
              "\n",
              "Examples\n",
              "--------\n",
              "Constructing DataFrame from a dictionary.\n",
              "\n",
              "&gt;&gt;&gt; d = {&#x27;col1&#x27;: [1, 2], &#x27;col2&#x27;: [3, 4]}\n",
              "&gt;&gt;&gt; df = pd.DataFrame(data=d)\n",
              "&gt;&gt;&gt; df\n",
              "   col1  col2\n",
              "0     1     3\n",
              "1     2     4\n",
              "\n",
              "Notice that the inferred dtype is int64.\n",
              "\n",
              "&gt;&gt;&gt; df.dtypes\n",
              "col1    int64\n",
              "col2    int64\n",
              "dtype: object\n",
              "\n",
              "To enforce a single dtype:\n",
              "\n",
              "&gt;&gt;&gt; df = pd.DataFrame(data=d, dtype=np.int8)\n",
              "&gt;&gt;&gt; df.dtypes\n",
              "col1    int8\n",
              "col2    int8\n",
              "dtype: object\n",
              "\n",
              "Constructing DataFrame from a dictionary including Series:\n",
              "\n",
              "&gt;&gt;&gt; d = {&#x27;col1&#x27;: [0, 1, 2, 3], &#x27;col2&#x27;: pd.Series([2, 3], index=[2, 3])}\n",
              "&gt;&gt;&gt; pd.DataFrame(data=d, index=[0, 1, 2, 3])\n",
              "   col1  col2\n",
              "0     0   NaN\n",
              "1     1   NaN\n",
              "2     2   2.0\n",
              "3     3   3.0\n",
              "\n",
              "Constructing DataFrame from numpy ndarray:\n",
              "\n",
              "&gt;&gt;&gt; df2 = pd.DataFrame(np.array([[1, 2, 3], [4, 5, 6], [7, 8, 9]]),\n",
              "...                    columns=[&#x27;a&#x27;, &#x27;b&#x27;, &#x27;c&#x27;])\n",
              "&gt;&gt;&gt; df2\n",
              "   a  b  c\n",
              "0  1  2  3\n",
              "1  4  5  6\n",
              "2  7  8  9\n",
              "\n",
              "Constructing DataFrame from a numpy ndarray that has labeled columns:\n",
              "\n",
              "&gt;&gt;&gt; data = np.array([(1, 2, 3), (4, 5, 6), (7, 8, 9)],\n",
              "...                 dtype=[(&quot;a&quot;, &quot;i4&quot;), (&quot;b&quot;, &quot;i4&quot;), (&quot;c&quot;, &quot;i4&quot;)])\n",
              "&gt;&gt;&gt; df3 = pd.DataFrame(data, columns=[&#x27;c&#x27;, &#x27;a&#x27;])\n",
              "...\n",
              "&gt;&gt;&gt; df3\n",
              "   c  a\n",
              "0  3  1\n",
              "1  6  4\n",
              "2  9  7\n",
              "\n",
              "Constructing DataFrame from dataclass:\n",
              "\n",
              "&gt;&gt;&gt; from dataclasses import make_dataclass\n",
              "&gt;&gt;&gt; Point = make_dataclass(&quot;Point&quot;, [(&quot;x&quot;, int), (&quot;y&quot;, int)])\n",
              "&gt;&gt;&gt; pd.DataFrame([Point(0, 0), Point(0, 3), Point(2, 3)])\n",
              "   x  y\n",
              "0  0  0\n",
              "1  0  3\n",
              "2  2  3\n",
              "\n",
              "Constructing DataFrame from Series/DataFrame:\n",
              "\n",
              "&gt;&gt;&gt; ser = pd.Series([1, 2, 3], index=[&quot;a&quot;, &quot;b&quot;, &quot;c&quot;])\n",
              "&gt;&gt;&gt; df = pd.DataFrame(data=ser, index=[&quot;a&quot;, &quot;c&quot;])\n",
              "&gt;&gt;&gt; df\n",
              "   0\n",
              "a  1\n",
              "c  3\n",
              "\n",
              "&gt;&gt;&gt; df1 = pd.DataFrame([1, 2, 3], index=[&quot;a&quot;, &quot;b&quot;, &quot;c&quot;], columns=[&quot;x&quot;])\n",
              "&gt;&gt;&gt; df2 = pd.DataFrame(data=df1, index=[&quot;a&quot;, &quot;c&quot;])\n",
              "&gt;&gt;&gt; df2\n",
              "   x\n",
              "a  1\n",
              "c  3</pre>\n",
              "      <script>\n",
              "      if (google.colab.kernel.accessAllowed && google.colab.files && google.colab.files.view) {\n",
              "        for (const element of document.querySelectorAll('.filepath')) {\n",
              "          element.style.display = 'block'\n",
              "          element.onclick = (event) => {\n",
              "            event.preventDefault();\n",
              "            event.stopPropagation();\n",
              "            google.colab.files.view(element.textContent, 509);\n",
              "          };\n",
              "        }\n",
              "      }\n",
              "      for (const element of document.querySelectorAll('.function-repr-contents')) {\n",
              "        element.onclick = (event) => {\n",
              "          event.preventDefault();\n",
              "          event.stopPropagation();\n",
              "          element.classList.toggle('function-repr-contents-collapsed');\n",
              "        };\n",
              "      }\n",
              "      </script>\n",
              "      </div>"
            ]
          },
          "metadata": {},
          "execution_count": 5
        }
      ]
    },
    {
      "cell_type": "code",
      "source": [
        "data[\"Q1A\"].dtype"
      ],
      "metadata": {
        "colab": {
          "base_uri": "https://localhost:8080/"
        },
        "id": "RJOYNWdLjDDx",
        "outputId": "15d3b1f1-775f-4c30-b33c-f3a276214176"
      },
      "execution_count": null,
      "outputs": [
        {
          "output_type": "execute_result",
          "data": {
            "text/plain": [
              "dtype('int64')"
            ]
          },
          "metadata": {},
          "execution_count": 6
        }
      ]
    },
    {
      "cell_type": "code",
      "source": [
        "#changing the response values from range 1-4 to 0-3 for the Dass 42 scales\n",
        "for i in range(0,124):\n",
        "    data.iloc[:, i] = data.iloc[:, i].replace([4, 3, 2, 1],[3, 2, 1, 0])\n",
        "    i = i+3"
      ],
      "metadata": {
        "id": "o58vU1KYjGp-"
      },
      "execution_count": null,
      "outputs": []
    },
    {
      "cell_type": "code",
      "source": [
        "print(data)"
      ],
      "metadata": {
        "colab": {
          "base_uri": "https://localhost:8080/"
        },
        "id": "j6gRpJHhjK6V",
        "outputId": "87e922e1-cc3e-40b0-c400-cf757ed7cc5e"
      },
      "execution_count": null,
      "outputs": [
        {
          "output_type": "stream",
          "name": "stdout",
          "text": [
            "       Q1A  Q1I    Q1E  Q2A  Q2I   Q2E  Q3A  Q3I    Q3E  Q4A  ...  screensize  \\\n",
            "0        3   28   3890    3   25  2122    1   16   1944    3  ...           1   \n",
            "1        3    1   8118    0   36  2890    1   35   4777    2  ...           2   \n",
            "2        2    7   5784    0   33  4373    3   41   3242    0  ...           2   \n",
            "3        1   23   5081    2   11  6837    1   37   5521    0  ...           2   \n",
            "4        1   36   3215    1   13  7731    2    5   4156    3  ...           2   \n",
            "...    ...  ...    ...  ...  ...   ...  ...  ...    ...  ...  ...         ...   \n",
            "39770    1   31   3287    0    5  2216    2   29   3895    1  ...           2   \n",
            "39771    2   14   4792    3   41  2604    2   15   2668    3  ...           1   \n",
            "39772    1    0  25147    0    3  4555    1   14   3388    0  ...           2   \n",
            "39773    2   36   4286    0   34  2736    1   10   5968    1  ...           2   \n",
            "39774    1   28  32251    0   22  3317    1    3  11734    0  ...           1   \n",
            "\n",
            "       uniquenetworklocation  hand  religion  orientation  race  voted  \\\n",
            "0                          1     1        12            1    10      2   \n",
            "1                          1     2         7            0    70      2   \n",
            "2                          1     1         4            3    60      1   \n",
            "3                          1     2         4            5    70      2   \n",
            "4                          2     3        10            1    10      2   \n",
            "...                      ...   ...       ...          ...   ...    ...   \n",
            "39770                      1     1         2            4    60      2   \n",
            "39771                      1     1        10            0    10      2   \n",
            "39772                      1     1         7            1    30      1   \n",
            "39773                      1     1         6            1    60      1   \n",
            "39774                      1     1        10            1    10      1   \n",
            "\n",
            "       married  familysize              major  \n",
            "0            1           2                NaN  \n",
            "1            1           4                NaN  \n",
            "2            1           3                NaN  \n",
            "3            1           5            biology  \n",
            "4            1           4         Psychology  \n",
            "...        ...         ...                ...  \n",
            "39770        1           2                NaN  \n",
            "39771        1           4         Mathematic  \n",
            "39772        2           3   Computer Science  \n",
            "39773        1           2            History  \n",
            "39774        1           4  Cognitive Science  \n",
            "\n",
            "[39775 rows x 172 columns]\n"
          ]
        }
      ]
    },
    {
      "cell_type": "code",
      "source": [
        "data['country'].unique()"
      ],
      "metadata": {
        "colab": {
          "base_uri": "https://localhost:8080/"
        },
        "id": "PkdsaRlajOYt",
        "outputId": "a27df851-9c4c-4580-d885-a27ed6486dbb"
      },
      "execution_count": null,
      "outputs": [
        {
          "output_type": "execute_result",
          "data": {
            "text/plain": [
              "array(['IN', 'US', 'PL', 'MY', 'MX', 'GB', 'DE', 'EE', 'CA', 'EC', 'AU',\n",
              "       'FI', 'ID', 'AE', 'NONE', 'ES', 'NI', 'DO', 'TR', 'NO', 'GR', 'LK',\n",
              "       'BR', 'AR', 'KH', 'IT', 'MK', 'PT', 'BA', 'RU', 'HU', 'KR', 'IE',\n",
              "       'RS', 'CZ', 'PH', 'RO', 'FR', 'SG', 'AT', 'UA', 'KW', 'CO', 'GE',\n",
              "       'SE', 'HK', 'NZ', 'ZA', 'NL', 'DK', 'JM', 'LB', 'CL', 'AW', 'IL',\n",
              "       'GT', 'PE', 'PK', 'NP', 'HR', 'CR', 'VE', 'BG', 'GH', 'MA', 'PR',\n",
              "       'SI', 'LV', 'AL', 'VN', 'GU', 'BD', 'TH', 'NG', 'FO', 'UY', 'EG',\n",
              "       'BE', 'SA', 'SV', 'CH', 'PY', 'SK', 'SY', 'TN', 'TT', 'SR', 'KE',\n",
              "       'BY', 'PA', 'CY', 'BW', 'MZ', 'BB', 'GG', 'CW', 'IS', 'IR', 'BN',\n",
              "       'MV', 'OM', 'DZ', 'JP', 'MU', nan, 'IQ', 'BO', 'MD', 'CN', 'LT',\n",
              "       'BZ', 'BH', 'ME', 'QA', 'TW', 'PS', 'JO', 'SD', 'KY', 'AZ', 'AO',\n",
              "       'BS', 'GY', 'MO', 'TZ', 'IM', 'AF', 'AM', 'UZ', 'LU', 'ET', 'JE',\n",
              "       'VU', 'TJ', 'KZ', 'XK', 'HN', 'ZW', 'LA', 'MT', 'SN', 'MN', 'TG',\n",
              "       'SC', 'RE', 'VC'], dtype=object)"
            ]
          },
          "metadata": {},
          "execution_count": 9
        }
      ]
    },
    {
      "cell_type": "code",
      "source": [
        "data = data.drop(['country','major'],axis=1)\n",
        "\n",
        "print(list(data.columns))"
      ],
      "metadata": {
        "colab": {
          "base_uri": "https://localhost:8080/"
        },
        "id": "5Yc9sOgWjRuQ",
        "outputId": "33446a31-5053-420f-ca33-2279558df553"
      },
      "execution_count": null,
      "outputs": [
        {
          "output_type": "stream",
          "name": "stdout",
          "text": [
            "['Q1A', 'Q1I', 'Q1E', 'Q2A', 'Q2I', 'Q2E', 'Q3A', 'Q3I', 'Q3E', 'Q4A', 'Q4I', 'Q4E', 'Q5A', 'Q5I', 'Q5E', 'Q6A', 'Q6I', 'Q6E', 'Q7A', 'Q7I', 'Q7E', 'Q8A', 'Q8I', 'Q8E', 'Q9A', 'Q9I', 'Q9E', 'Q10A', 'Q10I', 'Q10E', 'Q11A', 'Q11I', 'Q11E', 'Q12A', 'Q12I', 'Q12E', 'Q13A', 'Q13I', 'Q13E', 'Q14A', 'Q14I', 'Q14E', 'Q15A', 'Q15I', 'Q15E', 'Q16A', 'Q16I', 'Q16E', 'Q17A', 'Q17I', 'Q17E', 'Q18A', 'Q18I', 'Q18E', 'Q19A', 'Q19I', 'Q19E', 'Q20A', 'Q20I', 'Q20E', 'Q21A', 'Q21I', 'Q21E', 'Q22A', 'Q22I', 'Q22E', 'Q23A', 'Q23I', 'Q23E', 'Q24A', 'Q24I', 'Q24E', 'Q25A', 'Q25I', 'Q25E', 'Q26A', 'Q26I', 'Q26E', 'Q27A', 'Q27I', 'Q27E', 'Q28A', 'Q28I', 'Q28E', 'Q29A', 'Q29I', 'Q29E', 'Q30A', 'Q30I', 'Q30E', 'Q31A', 'Q31I', 'Q31E', 'Q32A', 'Q32I', 'Q32E', 'Q33A', 'Q33I', 'Q33E', 'Q34A', 'Q34I', 'Q34E', 'Q35A', 'Q35I', 'Q35E', 'Q36A', 'Q36I', 'Q36E', 'Q37A', 'Q37I', 'Q37E', 'Q38A', 'Q38I', 'Q38E', 'Q39A', 'Q39I', 'Q39E', 'Q40A', 'Q40I', 'Q40E', 'Q41A', 'Q41I', 'Q41E', 'Q42A', 'Q42I', 'Q42E', 'source', 'introelapse', 'testelapse', 'surveyelapse', 'TIPI1', 'TIPI2', 'TIPI3', 'TIPI4', 'TIPI5', 'TIPI6', 'TIPI7', 'TIPI8', 'TIPI9', 'TIPI10', 'VCL1', 'VCL2', 'VCL3', 'VCL4', 'VCL5', 'VCL6', 'VCL7', 'VCL8', 'VCL9', 'VCL10', 'VCL11', 'VCL12', 'VCL13', 'VCL14', 'VCL15', 'VCL16', 'education', 'urban', 'gender', 'engnat', 'age', 'screensize', 'uniquenetworklocation', 'hand', 'religion', 'orientation', 'race', 'voted', 'married', 'familysize']\n"
          ]
        }
      ]
    },
    {
      "cell_type": "code",
      "source": [
        "#If a person has taken more than 25s to answer a question, that response is not reliable and so we will not consider it\n",
        "#for i in range(0,124):\n",
        "#    for j in range(0, 39775):\n",
        "#        if(data.iloc[j, i+2] > 25000):\n",
        "#            data.iloc[j, i] = 0\n",
        "#        j = j+1\n",
        "#    i = i+3"
      ],
      "metadata": {
        "id": "jbbNRK5kjU-F"
      },
      "execution_count": null,
      "outputs": []
    },
    {
      "cell_type": "code",
      "source": [
        "print(data[\"Q1A\"])"
      ],
      "metadata": {
        "colab": {
          "base_uri": "https://localhost:8080/"
        },
        "id": "NZrkUFGAjeiR",
        "outputId": "dd14d548-8937-4d22-a585-73e02829d467"
      },
      "execution_count": null,
      "outputs": [
        {
          "output_type": "stream",
          "name": "stdout",
          "text": [
            "0        3\n",
            "1        3\n",
            "2        2\n",
            "3        1\n",
            "4        1\n",
            "        ..\n",
            "39770    1\n",
            "39771    2\n",
            "39772    1\n",
            "39773    2\n",
            "39774    1\n",
            "Name: Q1A, Length: 39775, dtype: int64\n"
          ]
        }
      ]
    },
    {
      "cell_type": "code",
      "source": [
        "#creating outcome columns for Stress, Anxiety and Depression\n",
        "#stress_scale = []\n",
        "#def Stress_scale(stress):\n",
        "#    if stress <=14:\n",
        "#        stress_scale.append(\"Normal S\")\n",
        "#    elif stress >14 and stress <=18:\n",
        "#        stress_scale.append(\"Mild S\")\n",
        "#    elif stress >18 and stress <= 25:\n",
        "#        stress_scale.append(\"Moderate S\")\n",
        "#    elif stress > 25 and stress <= 33:\n",
        "#        stress_scale.append(\"Severe S\")\n",
        "#    else:\n",
        "#        stress_scale.append(\"Extremely S\")\n",
        "#    return stress_scale\n",
        "\n",
        "\n",
        "stress = data[\"Q1A\"] + data[\"Q6A\"] + data[\"Q8A\"] + data[\"Q11A\"] + data[\"Q12A\"] + data[\"Q14A\"] + data[\"Q18A\"] + data[\"Q22A\"] +data[\"Q27A\"] + data[\"Q29A\"] + data[\"Q32A\"] + data[\"Q33A\"] + data[\"Q35A\"] + data[\"Q39A\"]\n",
        "#print(stress)\n",
        "data[\"Stress\"] = stress\n",
        "data[\"Stress_R\"] = stress #column to be used for regression approach\n",
        "data[\"Stress\"] = data[\"Stress\"].apply(lambda stress: 'Normal S' if stress <=14 else ('Mild S' if stress >14 and stress <=18 else ('Moderate S' if stress >18 and stress <= 25 else('Severe S' if stress > 25 and stress <= 33 else 'Extremely S')))) #column used for classification approach\n",
        "#data[\"Stress_scale\"] = data[\"Stress\"].apply(Stress_scale)\n",
        "#data[\"Stress_scale\"] = Stress_scale(data[[\"Stress\"]])\n",
        "\n",
        "anxiety = data[\"Q2A\"] + data[\"Q4A\"] + data[\"Q7A\"] + data[\"Q9A\"] + data[\"Q15A\"] + data[\"Q19A\"] + data[\"Q20A\"] + data[\"Q23A\"] +data[\"Q25A\"] + data[\"Q28A\"] + data[\"Q30A\"] + data[\"Q36A\"] + data[\"Q40A\"] + data[\"Q41A\"]\n",
        "data[\"Anxiety\"] = anxiety\n",
        "data[\"Anxiety_R\"] = anxiety\n",
        "data[\"Anxiety\"] = data[\"Anxiety\"].apply(lambda anxiety: 'Normal A' if anxiety <=7 else ('Mild A' if anxiety >7 and anxiety <=9 else ('Moderate A' if anxiety >9 and anxiety <= 14 else('Severe A' if anxiety > 14 and anxiety <= 19 else 'Extremely A'))))\n",
        "\n",
        "\n",
        "depression = data[\"Q3A\"] + data[\"Q5A\"] + data[\"Q10A\"] + data[\"Q13A\"] + data[\"Q16A\"] + data[\"Q17A\"] + data[\"Q21A\"] + data[\"Q24A\"] + data[\"Q26A\"] + data[\"Q31A\"] + data[\"Q34A\"] + data[\"Q37A\"] + data[\"Q38A\"] + data[\"Q42A\"]\n",
        "data[\"Depression\"] = depression\n",
        "data[\"Depression_R\"] = depression\n",
        "data[\"Depression\"] = data[\"Depression\"].apply(lambda depression: 'Normal D' if depression <=9 else ('Mild D' if depression >9 and depression <=13 else ('Moderate D' if depression >9 and depression <= 14 else('Severe D' if depression > 14 and depression <= 19 else 'Extremely D'))))\n",
        "print(data[\"Anxiety\"])\n",
        "#anxiety = data"
      ],
      "metadata": {
        "colab": {
          "base_uri": "https://localhost:8080/"
        },
        "id": "rtetSlRWjiqX",
        "outputId": "4c4bad71-75ef-486f-d7eb-548d647dca42"
      },
      "execution_count": null,
      "outputs": [
        {
          "output_type": "stream",
          "name": "stdout",
          "text": [
            "0        Extremely A\n",
            "1           Severe A\n",
            "2         Moderate A\n",
            "3           Severe A\n",
            "4        Extremely A\n",
            "            ...     \n",
            "39770     Moderate A\n",
            "39771    Extremely A\n",
            "39772       Normal A\n",
            "39773     Moderate A\n",
            "39774     Moderate A\n",
            "Name: Anxiety, Length: 39775, dtype: object\n"
          ]
        }
      ]
    },
    {
      "cell_type": "code",
      "source": [
        "import matplotlib.pyplot as plt\n",
        "\n",
        "plt.scatter(data['Stress_R'], data['age'])\n",
        "plt.plot(data['Depression_R'])\n",
        "plt.plot(data['Anxiety_R'])"
      ],
      "metadata": {
        "colab": {
          "base_uri": "https://localhost:8080/",
          "height": 447
        },
        "id": "dBk_-KcjjpIc",
        "outputId": "206b5b11-3407-4ff2-f1e4-3f8ce74f5e7c"
      },
      "execution_count": null,
      "outputs": [
        {
          "output_type": "execute_result",
          "data": {
            "text/plain": [
              "[<matplotlib.lines.Line2D at 0x79cf5c74ce50>]"
            ]
          },
          "metadata": {},
          "execution_count": 13
        },
        {
          "output_type": "display_data",
          "data": {
            "text/plain": [
              "<Figure size 640x480 with 1 Axes>"
            ],
            "image/png": "[encoded data removed]"
          },
          "metadata": {}
        }
      ]
    },
    {
      "cell_type": "code",
      "source": [
        "teen_data = (data['age'] > 12) & (data['age'] <= 19)\n",
        "teen_data = data.loc[teen_data]\n",
        "teen_data"
      ],
      "metadata": {
        "colab": {
          "base_uri": "https://localhost:8080/",
          "height": 558
        },
        "id": "sxxp8gSvjvN_",
        "outputId": "0814321b-7d44-41e5-f063-e8134dd2c445"
      },
      "execution_count": null,
      "outputs": [
        {
          "output_type": "execute_result",
          "data": {
            "text/plain": [
              "       Q1A  Q1I    Q1E  Q2A  Q2I   Q2E  Q3A  Q3I   Q3E  Q4A  ...  race  voted  \\\n",
              "0        3   28   3890    3   25  2122    1   16  1944    3  ...    10      2   \n",
              "1        3    1   8118    0   36  2890    1   35  4777    2  ...    70      2   \n",
              "2        2    7   5784    0   33  4373    3   41  3242    0  ...    60      1   \n",
              "3        1   23   5081    2   11  6837    1   37  5521    0  ...    70      2   \n",
              "4        1   36   3215    1   13  7731    2    5  4156    3  ...    10      2   \n",
              "...    ...  ...    ...  ...  ...   ...  ...  ...   ...  ...  ...   ...    ...   \n",
              "39759    1   41  15596    0   24  1818    1   25  1921    0  ...    10      2   \n",
              "39766    1   39   2305    0   33  2188    0    7  1924    1  ...    70      1   \n",
              "39767    3    0  14275    3    3  4721    3   33  3934    2  ...    20      2   \n",
              "39769    2   32  28897    3    3  3025    1   30  3248    1  ...    70      2   \n",
              "39770    1   31   3287    0    5  2216    2   29  3895    1  ...    60      2   \n",
              "\n",
              "       married  familysize       Stress  Stress_R      Anxiety  Anxiety_R  \\\n",
              "0            1           2  Extremely S        40  Extremely A         34   \n",
              "1            1           4     Severe S        27     Severe A         17   \n",
              "2            1           3       Mild S        17   Moderate A         12   \n",
              "3            1           5       Mild S        16     Severe A         17   \n",
              "4            1           4     Severe S        29  Extremely A         40   \n",
              "...        ...         ...          ...       ...          ...        ...   \n",
              "39759        1           4   Moderate S        19   Moderate A         10   \n",
              "39766        1           2       Mild S        15     Severe A         19   \n",
              "39767        1           2  Extremely S        38  Extremely A         28   \n",
              "39769        1           3     Severe S        30  Extremely A         21   \n",
              "39770        1           2       Mild S        15   Moderate A         12   \n",
              "\n",
              "        Depression  Depression_R  \n",
              "0      Extremely D            27  \n",
              "1      Extremely D            24  \n",
              "2      Extremely D            39  \n",
              "3         Severe D            16  \n",
              "4      Extremely D            32  \n",
              "...            ...           ...  \n",
              "39759  Extremely D            22  \n",
              "39766     Normal D             7  \n",
              "39767  Extremely D            42  \n",
              "39769     Severe D            15  \n",
              "39770  Extremely D            36  \n",
              "\n",
              "[13825 rows x 176 columns]"
            ],
            "text/html": [
              "\n",
              "  <div id=\"df-e138929d-ed70-4356-8e7a-138a8b8dda18\" class=\"colab-df-container\">\n",
              "    <div>\n",
              "<style scoped>\n",
              "    .dataframe tbody tr th:only-of-type {\n",
              "        vertical-align: middle;\n",
              "    }\n",
              "\n",
              "    .dataframe tbody tr th {\n",
              "        vertical-align: top;\n",
              "    }\n",
              "\n",
              "    .dataframe thead th {\n",
              "        text-align: right;\n",
              "    }\n",
              "</style>\n",
              "<table border=\"1\" class=\"dataframe\">\n",
              "  <thead>\n",
              "    <tr style=\"text-align: right;\">\n",
              "      <th></th>\n",
              "      <th>Q1A</th>\n",
              "      <th>Q1I</th>\n",
              "      <th>Q1E</th>\n",
              "      <th>Q2A</th>\n",
              "      <th>Q2I</th>\n",
              "      <th>Q2E</th>\n",
              "      <th>Q3A</th>\n",
              "      <th>Q3I</th>\n",
              "      <th>Q3E</th>\n",
              "      <th>Q4A</th>\n",
              "      <th>...</th>\n",
              "      <th>race</th>\n",
              "      <th>voted</th>\n",
              "      <th>married</th>\n",
              "      <th>familysize</th>\n",
              "      <th>Stress</th>\n",
              "      <th>Stress_R</th>\n",
              "      <th>Anxiety</th>\n",
              "      <th>Anxiety_R</th>\n",
              "      <th>Depression</th>\n",
              "      <th>Depression_R</th>\n",
              "    </tr>\n",
              "  </thead>\n",
              "  <tbody>\n",
              "    <tr>\n",
              "      <th>0</th>\n",
              "      <td>3</td>\n",
              "      <td>28</td>\n",
              "      <td>3890</td>\n",
              "      <td>3</td>\n",
              "      <td>25</td>\n",
              "      <td>2122</td>\n",
              "      <td>1</td>\n",
              "      <td>16</td>\n",
              "      <td>1944</td>\n",
              "      <td>3</td>\n",
              "      <td>...</td>\n",
              "      <td>10</td>\n",
              "      <td>2</td>\n",
              "      <td>1</td>\n",
              "      <td>2</td>\n",
              "      <td>Extremely S</td>\n",
              "      <td>40</td>\n",
              "      <td>Extremely A</td>\n",
              "      <td>34</td>\n",
              "      <td>Extremely D</td>\n",
              "      <td>27</td>\n",
              "    </tr>\n",
              "    <tr>\n",
              "      <th>1</th>\n",
              "      <td>3</td>\n",
              "      <td>1</td>\n",
              "      <td>8118</td>\n",
              "      <td>0</td>\n",
              "      <td>36</td>\n",
              "      <td>2890</td>\n",
              "      <td>1</td>\n",
              "      <td>35</td>\n",
              "      <td>4777</td>\n",
              "      <td>2</td>\n",
              "      <td>...</td>\n",
              "      <td>70</td>\n",
              "      <td>2</td>\n",
              "      <td>1</td>\n",
              "      <td>4</td>\n",
              "      <td>Severe S</td>\n",
              "      <td>27</td>\n",
              "      <td>Severe A</td>\n",
              "      <td>17</td>\n",
              "      <td>Extremely D</td>\n",
              "      <td>24</td>\n",
              "    </tr>\n",
              "    <tr>\n",
              "      <th>2</th>\n",
              "      <td>2</td>\n",
              "      <td>7</td>\n",
              "      <td>5784</td>\n",
              "      <td>0</td>\n",
              "      <td>33</td>\n",
              "      <td>4373</td>\n",
              "      <td>3</td>\n",
              "      <td>41</td>\n",
              "      <td>3242</td>\n",
              "      <td>0</td>\n",
              "      <td>...</td>\n",
              "      <td>60</td>\n",
              "      <td>1</td>\n",
              "      <td>1</td>\n",
              "      <td>3</td>\n",
              "      <td>Mild S</td>\n",
              "      <td>17</td>\n",
              "      <td>Moderate A</td>\n",
              "      <td>12</td>\n",
              "      <td>Extremely D</td>\n",
              "      <td>39</td>\n",
              "    </tr>\n",
              "    <tr>\n",
              "      <th>3</th>\n",
              "      <td>1</td>\n",
              "      <td>23</td>\n",
              "      <td>5081</td>\n",
              "      <td>2</td>\n",
              "      <td>11</td>\n",
              "      <td>6837</td>\n",
              "      <td>1</td>\n",
              "      <td>37</td>\n",
              "      <td>5521</td>\n",
              "      <td>0</td>\n",
              "      <td>...</td>\n",
              "      <td>70</td>\n",
              "      <td>2</td>\n",
              "      <td>1</td>\n",
              "      <td>5</td>\n",
              "      <td>Mild S</td>\n",
              "      <td>16</td>\n",
              "      <td>Severe A</td>\n",
              "      <td>17</td>\n",
              "      <td>Severe D</td>\n",
              "      <td>16</td>\n",
              "    </tr>\n",
              "    <tr>\n",
              "      <th>4</th>\n",
              "      <td>1</td>\n",
              "      <td>36</td>\n",
              "      <td>3215</td>\n",
              "      <td>1</td>\n",
              "      <td>13</td>\n",
              "      <td>7731</td>\n",
              "      <td>2</td>\n",
              "      <td>5</td>\n",
              "      <td>4156</td>\n",
              "      <td>3</td>\n",
              "      <td>...</td>\n",
              "      <td>10</td>\n",
              "      <td>2</td>\n",
              "      <td>1</td>\n",
              "      <td>4</td>\n",
              "      <td>Severe S</td>\n",
              "      <td>29</td>\n",
              "      <td>Extremely A</td>\n",
              "      <td>40</td>\n",
              "      <td>Extremely D</td>\n",
              "      <td>32</td>\n",
              "    </tr>\n",
              "    <tr>\n",
              "      <th>...</th>\n",
              "      <td>...</td>\n",
              "      <td>...</td>\n",
              "      <td>...</td>\n",
              "      <td>...</td>\n",
              "      <td>...</td>\n",
              "      <td>...</td>\n",
              "      <td>...</td>\n",
              "      <td>...</td>\n",
              "      <td>...</td>\n",
              "      <td>...</td>\n",
              "      <td>...</td>\n",
              "      <td>...</td>\n",
              "      <td>...</td>\n",
              "      <td>...</td>\n",
              "      <td>...</td>\n",
              "      <td>...</td>\n",
              "      <td>...</td>\n",
              "      <td>...</td>\n",
              "      <td>...</td>\n",
              "      <td>...</td>\n",
              "      <td>...</td>\n",
              "    </tr>\n",
              "    <tr>\n",
              "      <th>39759</th>\n",
              "      <td>1</td>\n",
              "      <td>41</td>\n",
              "      <td>15596</td>\n",
              "      <td>0</td>\n",
              "      <td>24</td>\n",
              "      <td>1818</td>\n",
              "      <td>1</td>\n",
              "      <td>25</td>\n",
              "      <td>1921</td>\n",
              "      <td>0</td>\n",
              "      <td>...</td>\n",
              "      <td>10</td>\n",
              "      <td>2</td>\n",
              "      <td>1</td>\n",
              "      <td>4</td>\n",
              "      <td>Moderate S</td>\n",
              "      <td>19</td>\n",
              "      <td>Moderate A</td>\n",
              "      <td>10</td>\n",
              "      <td>Extremely D</td>\n",
              "      <td>22</td>\n",
              "    </tr>\n",
              "    <tr>\n",
              "      <th>39766</th>\n",
              "      <td>1</td>\n",
              "      <td>39</td>\n",
              "      <td>2305</td>\n",
              "      <td>0</td>\n",
              "      <td>33</td>\n",
              "      <td>2188</td>\n",
              "      <td>0</td>\n",
              "      <td>7</td>\n",
              "      <td>1924</td>\n",
              "      <td>1</td>\n",
              "      <td>...</td>\n",
              "      <td>70</td>\n",
              "      <td>1</td>\n",
              "      <td>1</td>\n",
              "      <td>2</td>\n",
              "      <td>Mild S</td>\n",
              "      <td>15</td>\n",
              "      <td>Severe A</td>\n",
              "      <td>19</td>\n",
              "      <td>Normal D</td>\n",
              "      <td>7</td>\n",
              "    </tr>\n",
              "    <tr>\n",
              "      <th>39767</th>\n",
              "      <td>3</td>\n",
              "      <td>0</td>\n",
              "      <td>14275</td>\n",
              "      <td>3</td>\n",
              "      <td>3</td>\n",
              "      <td>4721</td>\n",
              "      <td>3</td>\n",
              "      <td>33</td>\n",
              "      <td>3934</td>\n",
              "      <td>2</td>\n",
              "      <td>...</td>\n",
              "      <td>20</td>\n",
              "      <td>2</td>\n",
              "      <td>1</td>\n",
              "      <td>2</td>\n",
              "      <td>Extremely S</td>\n",
              "      <td>38</td>\n",
              "      <td>Extremely A</td>\n",
              "      <td>28</td>\n",
              "      <td>Extremely D</td>\n",
              "      <td>42</td>\n",
              "    </tr>\n",
              "    <tr>\n",
              "      <th>39769</th>\n",
              "      <td>2</td>\n",
              "      <td>32</td>\n",
              "      <td>28897</td>\n",
              "      <td>3</td>\n",
              "      <td>3</td>\n",
              "      <td>3025</td>\n",
              "      <td>1</td>\n",
              "      <td>30</td>\n",
              "      <td>3248</td>\n",
              "      <td>1</td>\n",
              "      <td>...</td>\n",
              "      <td>70</td>\n",
              "      <td>2</td>\n",
              "      <td>1</td>\n",
              "      <td>3</td>\n",
              "      <td>Severe S</td>\n",
              "      <td>30</td>\n",
              "      <td>Extremely A</td>\n",
              "      <td>21</td>\n",
              "      <td>Severe D</td>\n",
              "      <td>15</td>\n",
              "    </tr>\n",
              "    <tr>\n",
              "      <th>39770</th>\n",
              "      <td>1</td>\n",
              "      <td>31</td>\n",
              "      <td>3287</td>\n",
              "      <td>0</td>\n",
              "      <td>5</td>\n",
              "      <td>2216</td>\n",
              "      <td>2</td>\n",
              "      <td>29</td>\n",
              "      <td>3895</td>\n",
              "      <td>1</td>\n",
              "      <td>...</td>\n",
              "      <td>60</td>\n",
              "      <td>2</td>\n",
              "      <td>1</td>\n",
              "      <td>2</td>\n",
              "      <td>Mild S</td>\n",
              "      <td>15</td>\n",
              "      <td>Moderate A</td>\n",
              "      <td>12</td>\n",
              "      <td>Extremely D</td>\n",
              "      <td>36</td>\n",
              "    </tr>\n",
              "  </tbody>\n",
              "</table>\n",
              "<p>13825 rows × 176 columns</p>\n",
              "</div>\n",
              "    <div class=\"colab-df-buttons\">\n",
              "\n",
              "  <div class=\"colab-df-container\">\n",
              "    <button class=\"colab-df-convert\" onclick=\"convertToInteractive('df-e138929d-ed70-4356-8e7a-138a8b8dda18')\"\n",
              "            title=\"Convert this dataframe to an interactive table.\"\n",
              "            style=\"display:none;\">\n",
              "\n",
              "  <svg xmlns=\"http://www.w3.org/2000/svg\" height=\"24px\" viewBox=\"0 -960 960 960\">\n",
              "    <path d=\"M120-120v-720h720v720H120Zm60-500h600v-160H180v160Zm220 220h160v-160H400v160Zm0 220h160v-160H400v160ZM180-400h160v-160H180v160Zm440 0h160v-160H620v160ZM180-180h160v-160H180v160Zm440 0h160v-160H620v160Z\"/>\n",
              "  </svg>\n",
              "    </button>\n",
              "\n",
              "  <style>\n",
              "    .colab-df-container {\n",
              "      display:flex;\n",
              "      gap: 12px;\n",
              "    }\n",
              "\n",
              "    .colab-df-convert {\n",
              "      background-color: #E8F0FE;\n",
              "      border: none;\n",
              "      border-radius: 50%;\n",
              "      cursor: pointer;\n",
              "      display: none;\n",
              "      fill: #1967D2;\n",
              "      height: 32px;\n",
              "      padding: 0 0 0 0;\n",
              "      width: 32px;\n",
              "    }\n",
              "\n",
              "    .colab-df-convert:hover {\n",
              "      background-color: #E2EBFA;\n",
              "      box-shadow: 0px 1px 2px rgba(60, 64, 67, 0.3), 0px 1px 3px 1px rgba(60, 64, 67, 0.15);\n",
              "      fill: #174EA6;\n",
              "    }\n",
              "\n",
              "    .colab-df-buttons div {\n",
              "      margin-bottom: 4px;\n",
              "    }\n",
              "\n",
              "    [theme=dark] .colab-df-convert {\n",
              "      background-color: #3B4455;\n",
              "      fill: #D2E3FC;\n",
              "    }\n",
              "\n",
              "    [theme=dark] .colab-df-convert:hover {\n",
              "      background-color: #434B5C;\n",
              "      box-shadow: 0px 1px 3px 1px rgba(0, 0, 0, 0.15);\n",
              "      filter: drop-shadow(0px 1px 2px rgba(0, 0, 0, 0.3));\n",
              "      fill: #FFFFFF;\n",
              "    }\n",
              "  </style>\n",
              "\n",
              "    <script>\n",
              "      const buttonEl =\n",
              "        document.querySelector('#df-e138929d-ed70-4356-8e7a-138a8b8dda18 button.colab-df-convert');\n",
              "      buttonEl.style.display =\n",
              "        google.colab.kernel.accessAllowed ? 'block' : 'none';\n",
              "\n",
              "      async function convertToInteractive(key) {\n",
              "        const element = document.querySelector('#df-e138929d-ed70-4356-8e7a-138a8b8dda18');\n",
              "        const dataTable =\n",
              "          await google.colab.kernel.invokeFunction('convertToInteractive',\n",
              "                                                    [key], {});\n",
              "        if (!dataTable) return;\n",
              "\n",
              "        const docLinkHtml = 'Like what you see? Visit the ' +\n",
              "          '<a target=\"_blank\" href=https://colab.research.google.com/notebooks/data_table.ipynb>data table notebook</a>'\n",
              "          + ' to learn more about interactive tables.';\n",
              "        element.innerHTML = '';\n",
              "        dataTable['output_type'] = 'display_data';\n",
              "        await google.colab.output.renderOutput(dataTable, element);\n",
              "        const docLink = document.createElement('div');\n",
              "        docLink.innerHTML = docLinkHtml;\n",
              "        element.appendChild(docLink);\n",
              "      }\n",
              "    </script>\n",
              "  </div>\n",
              "\n",
              "\n",
              "<div id=\"df-89f793a4-83e2-4f72-9f5c-cba32d60fbb0\">\n",
              "  <button class=\"colab-df-quickchart\" onclick=\"quickchart('df-89f793a4-83e2-4f72-9f5c-cba32d60fbb0')\"\n",
              "            title=\"Suggest charts\"\n",
              "            style=\"display:none;\">\n",
              "\n",
              "<svg xmlns=\"http://www.w3.org/2000/svg\" height=\"24px\"viewBox=\"0 0 24 24\"\n",
              "     width=\"24px\">\n",
              "    <g>\n",
              "        <path d=\"M19 3H5c-1.1 0-2 .9-2 2v14c0 1.1.9 2 2 2h14c1.1 0 2-.9 2-2V5c0-1.1-.9-2-2-2zM9 17H7v-7h2v7zm4 0h-2V7h2v10zm4 0h-2v-4h2v4z\"/>\n",
              "    </g>\n",
              "</svg>\n",
              "  </button>\n",
              "\n",
              "<style>\n",
              "  .colab-df-quickchart {\n",
              "      --bg-color: #E8F0FE;\n",
              "      --fill-color: #1967D2;\n",
              "      --hover-bg-color: #E2EBFA;\n",
              "      --hover-fill-color: #174EA6;\n",
              "      --disabled-fill-color: #AAA;\n",
              "      --disabled-bg-color: #DDD;\n",
              "  }\n",
              "\n",
              "  [theme=dark] .colab-df-quickchart {\n",
              "      --bg-color: #3B4455;\n",
              "      --fill-color: #D2E3FC;\n",
              "      --hover-bg-color: #434B5C;\n",
              "      --hover-fill-color: #FFFFFF;\n",
              "      --disabled-bg-color: #3B4455;\n",
              "      --disabled-fill-color: #666;\n",
              "  }\n",
              "\n",
              "  .colab-df-quickchart {\n",
              "    background-color: var(--bg-color);\n",
              "    border: none;\n",
              "    border-radius: 50%;\n",
              "    cursor: pointer;\n",
              "    display: none;\n",
              "    fill: var(--fill-color);\n",
              "    height: 32px;\n",
              "    padding: 0;\n",
              "    width: 32px;\n",
              "  }\n",
              "\n",
              "  .colab-df-quickchart:hover {\n",
              "    background-color: var(--hover-bg-color);\n",
              "    box-shadow: 0 1px 2px rgba(60, 64, 67, 0.3), 0 1px 3px 1px rgba(60, 64, 67, 0.15);\n",
              "    fill: var(--button-hover-fill-color);\n",
              "  }\n",
              "\n",
              "  .colab-df-quickchart-complete:disabled,\n",
              "  .colab-df-quickchart-complete:disabled:hover {\n",
              "    background-color: var(--disabled-bg-color);\n",
              "    fill: var(--disabled-fill-color);\n",
              "    box-shadow: none;\n",
              "  }\n",
              "\n",
              "  .colab-df-spinner {\n",
              "    border: 2px solid var(--fill-color);\n",
              "    border-color: transparent;\n",
              "    border-bottom-color: var(--fill-color);\n",
              "    animation:\n",
              "      spin 1s steps(1) infinite;\n",
              "  }\n",
              "\n",
              "  @keyframes spin {\n",
              "    0% {\n",
              "      border-color: transparent;\n",
              "      border-bottom-color: var(--fill-color);\n",
              "      border-left-color: var(--fill-color);\n",
              "    }\n",
              "    20% {\n",
              "      border-color: transparent;\n",
              "      border-left-color: var(--fill-color);\n",
              "      border-top-color: var(--fill-color);\n",
              "    }\n",
              "    30% {\n",
              "      border-color: transparent;\n",
              "      border-left-color: var(--fill-color);\n",
              "      border-top-color: var(--fill-color);\n",
              "      border-right-color: var(--fill-color);\n",
              "    }\n",
              "    40% {\n",
              "      border-color: transparent;\n",
              "      border-right-color: var(--fill-color);\n",
              "      border-top-color: var(--fill-color);\n",
              "    }\n",
              "    60% {\n",
              "      border-color: transparent;\n",
              "      border-right-color: var(--fill-color);\n",
              "    }\n",
              "    80% {\n",
              "      border-color: transparent;\n",
              "      border-right-color: var(--fill-color);\n",
              "      border-bottom-color: var(--fill-color);\n",
              "    }\n",
              "    90% {\n",
              "      border-color: transparent;\n",
              "      border-bottom-color: var(--fill-color);\n",
              "    }\n",
              "  }\n",
              "</style>\n",
              "\n",
              "  <script>\n",
              "    async function quickchart(key) {\n",
              "      const quickchartButtonEl =\n",
              "        document.querySelector('#' + key + ' button');\n",
              "      quickchartButtonEl.disabled = true;  // To prevent multiple clicks.\n",
              "      quickchartButtonEl.classList.add('colab-df-spinner');\n",
              "      try {\n",
              "        const charts = await google.colab.kernel.invokeFunction(\n",
              "            'suggestCharts', [key], {});\n",
              "      } catch (error) {\n",
              "        console.error('Error during call to suggestCharts:', error);\n",
              "      }\n",
              "      quickchartButtonEl.classList.remove('colab-df-spinner');\n",
              "      quickchartButtonEl.classList.add('colab-df-quickchart-complete');\n",
              "    }\n",
              "    (() => {\n",
              "      let quickchartButtonEl =\n",
              "        document.querySelector('#df-89f793a4-83e2-4f72-9f5c-cba32d60fbb0 button');\n",
              "      quickchartButtonEl.style.display =\n",
              "        google.colab.kernel.accessAllowed ? 'block' : 'none';\n",
              "    })();\n",
              "  </script>\n",
              "</div>\n",
              "\n",
              "  <div id=\"id_5aaafbf4-2223-448d-934d-3d0b77ff6a0d\">\n",
              "    <style>\n",
              "      .colab-df-generate {\n",
              "        background-color: #E8F0FE;\n",
              "        border: none;\n",
              "        border-radius: 50%;\n",
              "        cursor: pointer;\n",
              "        display: none;\n",
              "        fill: #1967D2;\n",
              "        height: 32px;\n",
              "        padding: 0 0 0 0;\n",
              "        width: 32px;\n",
              "      }\n",
              "\n",
              "      .colab-df-generate:hover {\n",
              "        background-color: #E2EBFA;\n",
              "        box-shadow: 0px 1px 2px rgba(60, 64, 67, 0.3), 0px 1px 3px 1px rgba(60, 64, 67, 0.15);\n",
              "        fill: #174EA6;\n",
              "      }\n",
              "\n",
              "      [theme=dark] .colab-df-generate {\n",
              "        background-color: #3B4455;\n",
              "        fill: #D2E3FC;\n",
              "      }\n",
              "\n",
              "      [theme=dark] .colab-df-generate:hover {\n",
              "        background-color: #434B5C;\n",
              "        box-shadow: 0px 1px 3px 1px rgba(0, 0, 0, 0.15);\n",
              "        filter: drop-shadow(0px 1px 2px rgba(0, 0, 0, 0.3));\n",
              "        fill: #FFFFFF;\n",
              "      }\n",
              "    </style>\n",
              "    <button class=\"colab-df-generate\" onclick=\"generateWithVariable('teen_data')\"\n",
              "            title=\"Generate code using this dataframe.\"\n",
              "            style=\"display:none;\">\n",
              "\n",
              "  <svg xmlns=\"http://www.w3.org/2000/svg\" height=\"24px\"viewBox=\"0 0 24 24\"\n",
              "       width=\"24px\">\n",
              "    <path d=\"M7,19H8.4L18.45,9,17,7.55,7,17.6ZM5,21V16.75L18.45,3.32a2,2,0,0,1,2.83,0l1.4,1.43a1.91,1.91,0,0,1,.58,1.4,1.91,1.91,0,0,1-.58,1.4L9.25,21ZM18.45,9,17,7.55Zm-12,3A5.31,5.31,0,0,0,4.9,8.1,5.31,5.31,0,0,0,1,6.5,5.31,5.31,0,0,0,4.9,4.9,5.31,5.31,0,0,0,6.5,1,5.31,5.31,0,0,0,8.1,4.9,5.31,5.31,0,0,0,12,6.5,5.46,5.46,0,0,0,6.5,12Z\"/>\n",
              "  </svg>\n",
              "    </button>\n",
              "    <script>\n",
              "      (() => {\n",
              "      const buttonEl =\n",
              "        document.querySelector('#id_5aaafbf4-2223-448d-934d-3d0b77ff6a0d button.colab-df-generate');\n",
              "      buttonEl.style.display =\n",
              "        google.colab.kernel.accessAllowed ? 'block' : 'none';\n",
              "\n",
              "      buttonEl.onclick = () => {\n",
              "        google.colab.notebook.generateWithVariable('teen_data');\n",
              "      }\n",
              "      })();\n",
              "    </script>\n",
              "  </div>\n",
              "\n",
              "    </div>\n",
              "  </div>\n"
            ],
            "application/vnd.google.colaboratory.intrinsic+json": {
              "type": "dataframe",
              "variable_name": "teen_data"
            }
          },
          "metadata": {},
          "execution_count": 14
        }
      ]
    },
    {
      "cell_type": "code",
      "source": [
        "modeldataR = teen_data[['Q1A','Q6A','Q8A','Q11A','Q12A','Q14A','Q18A','Q22A','Q27A','Q29A','Q32A','Q33A','Q35A','Q39A',\n",
        "\"Q2A\",\"Q4A\",\"Q7A\",\"Q9A\",\"Q15A\",\"Q19A\",\"Q20A\",\"Q23A\",\"Q25A\",\"Q28A\",\"Q30A\",\"Q36A\",\"Q40A\",\"Q41A\",\"Q3A\",\"Q5A\",\"Q10A\",\"Q13A\",\"Q16A\",\"Q17A\",\"Q21A\",\"Q24A\",\"Q26A\",\"Q31A\",\"Q34A\",\"Q37A\",\"Q38A\",\"Q42A\",'age','Stress_R','Depression_R','Anxiety_R']]"
      ],
      "metadata": {
        "id": "128lLfjyjytK"
      },
      "execution_count": null,
      "outputs": []
    },
    {
      "cell_type": "code",
      "source": [
        "#splittin the data in train and test sets\n",
        "from sklearn.model_selection import train_test_split"
      ],
      "metadata": {
        "id": "sUPvPvc5j1_0"
      },
      "execution_count": null,
      "outputs": []
    },
    {
      "cell_type": "code",
      "source": [
        "X = modeldataR.iloc[:, :43].values\n",
        "Y = modeldataR.iloc[:, 43:].values\n",
        "\n",
        "x_train, x_test, y_train, y_test = train_test_split(X, Y,\n",
        "    test_size=0.2, random_state= 8)"
      ],
      "metadata": {
        "id": "TvmXmFStj4dn"
      },
      "execution_count": null,
      "outputs": []
    },
    {
      "cell_type": "code",
      "source": [
        "print(x_train.shape)\n",
        "print(y_train.shape)\n",
        "print(x_test.shape)\n",
        "print(y_test.shape)"
      ],
      "metadata": {
        "colab": {
          "base_uri": "https://localhost:8080/"
        },
        "id": "dNttNomRj9kZ",
        "outputId": "585614cd-fae2-4f18-bcee-84be54b1521d"
      },
      "execution_count": null,
      "outputs": [
        {
          "output_type": "stream",
          "name": "stdout",
          "text": [
            "(11060, 43)\n",
            "(11060, 3)\n",
            "(2765, 43)\n",
            "(2765, 3)\n"
          ]
        }
      ]
    },
    {
      "cell_type": "code",
      "source": [
        "from sklearn.multioutput import MultiOutputRegressor\n",
        "from sklearn.multioutput import MultiOutputClassifier\n",
        "from sklearn.tree import DecisionTreeRegressor\n",
        "from sklearn.svm import LinearSVR\n",
        "from sklearn.ensemble import GradientBoostingRegressor\n",
        "from sklearn.ensemble import RandomForestClassifier\n",
        "from sklearn.ensemble import RandomForestRegressor\n",
        "from sklearn.linear_model import LinearRegression"
      ],
      "metadata": {
        "id": "e7VC8PfNkBPm"
      },
      "execution_count": null,
      "outputs": []
    },
    {
      "cell_type": "code",
      "source": [
        "#Implementing Linear Regression\n",
        "\n",
        "log_model = LinearRegression()\n",
        "wrapper = MultiOutputRegressor(estimator = log_model)\n",
        "# fit model\n",
        "wrapper.fit(x_train, y_train)"
      ],
      "metadata": {
        "colab": {
          "base_uri": "https://localhost:8080/",
          "height": 163
        },
        "id": "KI10WDZkkEll",
        "outputId": "a1bf3607-ca47-4efb-e8ba-d2102a44f292"
      },
      "execution_count": null,
      "outputs": [
        {
          "output_type": "execute_result",
          "data": {
            "text/plain": [
              "MultiOutputRegressor(estimator=LinearRegression())"
            ],
            "text/html": [
              "<style>#sk-container-id-1 {\n",
              "  /* Definition of color scheme common for light and dark mode */\n",
              "  --sklearn-color-text: #000;\n",
              "  --sklearn-color-text-muted: #666;\n",
              "  --sklearn-color-line: gray;\n",
              "  /* Definition of color scheme for unfitted estimators */\n",
              "  --sklearn-color-unfitted-level-0: #fff5e6;\n",
              "  --sklearn-color-unfitted-level-1: #f6e4d2;\n",
              "  --sklearn-color-unfitted-level-2: #ffe0b3;\n",
              "  --sklearn-color-unfitted-level-3: chocolate;\n",
              "  /* Definition of color scheme for fitted estimators */\n",
              "  --sklearn-color-fitted-level-0: #f0f8ff;\n",
              "  --sklearn-color-fitted-level-1: #d4ebff;\n",
              "  --sklearn-color-fitted-level-2: #b3dbfd;\n",
              "  --sklearn-color-fitted-level-3: cornflowerblue;\n",
              "\n",
              "  /* Specific color for light theme */\n",
              "  --sklearn-color-text-on-default-background: var(--sg-text-color, var(--theme-code-foreground, var(--jp-content-font-color1, black)));\n",
              "  --sklearn-color-background: var(--sg-background-color, var(--theme-background, var(--jp-layout-color0, white)));\n",
              "  --sklearn-color-border-box: var(--sg-text-color, var(--theme-code-foreground, var(--jp-content-font-color1, black)));\n",
              "  --sklearn-color-icon: #696969;\n",
              "\n",
              "  @media (prefers-color-scheme: dark) {\n",
              "    /* Redefinition of color scheme for dark theme */\n",
              "    --sklearn-color-text-on-default-background: var(--sg-text-color, var(--theme-code-foreground, var(--jp-content-font-color1, white)));\n",
              "    --sklearn-color-background: var(--sg-background-color, var(--theme-background, var(--jp-layout-color0, #111)));\n",
              "    --sklearn-color-border-box: var(--sg-text-color, var(--theme-code-foreground, var(--jp-content-font-color1, white)));\n",
              "    --sklearn-color-icon: #878787;\n",
              "  }\n",
              "}\n",
              "\n",
              "#sk-container-id-1 {\n",
              "  color: var(--sklearn-color-text);\n",
              "}\n",
              "\n",
              "#sk-container-id-1 pre {\n",
              "  padding: 0;\n",
              "}\n",
              "\n",
              "#sk-container-id-1 input.sk-hidden--visually {\n",
              "  border: 0;\n",
              "  clip: rect(1px 1px 1px 1px);\n",
              "  clip: rect(1px, 1px, 1px, 1px);\n",
              "  height: 1px;\n",
              "  margin: -1px;\n",
              "  overflow: hidden;\n",
              "  padding: 0;\n",
              "  position: absolute;\n",
              "  width: 1px;\n",
              "}\n",
              "\n",
              "#sk-container-id-1 div.sk-dashed-wrapped {\n",
              "  border: 1px dashed var(--sklearn-color-line);\n",
              "  margin: 0 0.4em 0.5em 0.4em;\n",
              "  box-sizing: border-box;\n",
              "  padding-bottom: 0.4em;\n",
              "  background-color: var(--sklearn-color-background);\n",
              "}\n",
              "\n",
              "#sk-container-id-1 div.sk-container {\n",
              "  /* jupyter's `normalize.less` sets `[hidden] { display: none; }`\n",
              "     but bootstrap.min.css set `[hidden] { display: none !important; }`\n",
              "     so we also need the `!important` here to be able to override the\n",
              "     default hidden behavior on the sphinx rendered scikit-learn.org.\n",
              "     See: https://github.com/scikit-learn/scikit-learn/issues/21755 */\n",
              "  display: inline-block !important;\n",
              "  position: relative;\n",
              "}\n",
              "\n",
              "#sk-container-id-1 div.sk-text-repr-fallback {\n",
              "  display: none;\n",
              "}\n",
              "\n",
              "div.sk-parallel-item,\n",
              "div.sk-serial,\n",
              "div.sk-item {\n",
              "  /* draw centered vertical line to link estimators */\n",
              "  background-image: linear-gradient(var(--sklearn-color-text-on-default-background), var(--sklearn-color-text-on-default-background));\n",
              "  background-size: 2px 100%;\n",
              "  background-repeat: no-repeat;\n",
              "  background-position: center center;\n",
              "}\n",
              "\n",
              "/* Parallel-specific style estimator block */\n",
              "\n",
              "#sk-container-id-1 div.sk-parallel-item::after {\n",
              "  content: \"\";\n",
              "  width: 100%;\n",
              "  border-bottom: 2px solid var(--sklearn-color-text-on-default-background);\n",
              "  flex-grow: 1;\n",
              "}\n",
              "\n",
              "#sk-container-id-1 div.sk-parallel {\n",
              "  display: flex;\n",
              "  align-items: stretch;\n",
              "  justify-content: center;\n",
              "  background-color: var(--sklearn-color-background);\n",
              "  position: relative;\n",
              "}\n",
              "\n",
              "#sk-container-id-1 div.sk-parallel-item {\n",
              "  display: flex;\n",
              "  flex-direction: column;\n",
              "}\n",
              "\n",
              "#sk-container-id-1 div.sk-parallel-item:first-child::after {\n",
              "  align-self: flex-end;\n",
              "  width: 50%;\n",
              "}\n",
              "\n",
              "#sk-container-id-1 div.sk-parallel-item:last-child::after {\n",
              "  align-self: flex-start;\n",
              "  width: 50%;\n",
              "}\n",
              "\n",
              "#sk-container-id-1 div.sk-parallel-item:only-child::after {\n",
              "  width: 0;\n",
              "}\n",
              "\n",
              "/* Serial-specific style estimator block */\n",
              "\n",
              "#sk-container-id-1 div.sk-serial {\n",
              "  display: flex;\n",
              "  flex-direction: column;\n",
              "  align-items: center;\n",
              "  background-color: var(--sklearn-color-background);\n",
              "  padding-right: 1em;\n",
              "  padding-left: 1em;\n",
              "}\n",
              "\n",
              "\n",
              "/* Toggleable style: style used for estimator/Pipeline/ColumnTransformer box that is\n",
              "clickable and can be expanded/collapsed.\n",
              "- Pipeline and ColumnTransformer use this feature and define the default style\n",
              "- Estimators will overwrite some part of the style using the `sk-estimator` class\n",
              "*/\n",
              "\n",
              "/* Pipeline and ColumnTransformer style (default) */\n",
              "\n",
              "#sk-container-id-1 div.sk-toggleable {\n",
              "  /* Default theme specific background. It is overwritten whether we have a\n",
              "  specific estimator or a Pipeline/ColumnTransformer */\n",
              "  background-color: var(--sklearn-color-background);\n",
              "}\n",
              "\n",
              "/* Toggleable label */\n",
              "#sk-container-id-1 label.sk-toggleable__label {\n",
              "  cursor: pointer;\n",
              "  display: flex;\n",
              "  width: 100%;\n",
              "  margin-bottom: 0;\n",
              "  padding: 0.5em;\n",
              "  box-sizing: border-box;\n",
              "  text-align: center;\n",
              "  align-items: start;\n",
              "  justify-content: space-between;\n",
              "  gap: 0.5em;\n",
              "}\n",
              "\n",
              "#sk-container-id-1 label.sk-toggleable__label .caption {\n",
              "  font-size: 0.6rem;\n",
              "  font-weight: lighter;\n",
              "  color: var(--sklearn-color-text-muted);\n",
              "}\n",
              "\n",
              "#sk-container-id-1 label.sk-toggleable__label-arrow:before {\n",
              "  /* Arrow on the left of the label */\n",
              "  content: \"▸\";\n",
              "  float: left;\n",
              "  margin-right: 0.25em;\n",
              "  color: var(--sklearn-color-icon);\n",
              "}\n",
              "\n",
              "#sk-container-id-1 label.sk-toggleable__label-arrow:hover:before {\n",
              "  color: var(--sklearn-color-text);\n",
              "}\n",
              "\n",
              "/* Toggleable content - dropdown */\n",
              "\n",
              "#sk-container-id-1 div.sk-toggleable__content {\n",
              "  max-height: 0;\n",
              "  max-width: 0;\n",
              "  overflow: hidden;\n",
              "  text-align: left;\n",
              "  /* unfitted */\n",
              "  background-color: var(--sklearn-color-unfitted-level-0);\n",
              "}\n",
              "\n",
              "#sk-container-id-1 div.sk-toggleable__content.fitted {\n",
              "  /* fitted */\n",
              "  background-color: var(--sklearn-color-fitted-level-0);\n",
              "}\n",
              "\n",
              "#sk-container-id-1 div.sk-toggleable__content pre {\n",
              "  margin: 0.2em;\n",
              "  border-radius: 0.25em;\n",
              "  color: var(--sklearn-color-text);\n",
              "  /* unfitted */\n",
              "  background-color: var(--sklearn-color-unfitted-level-0);\n",
              "}\n",
              "\n",
              "#sk-container-id-1 div.sk-toggleable__content.fitted pre {\n",
              "  /* unfitted */\n",
              "  background-color: var(--sklearn-color-fitted-level-0);\n",
              "}\n",
              "\n",
              "#sk-container-id-1 input.sk-toggleable__control:checked~div.sk-toggleable__content {\n",
              "  /* Expand drop-down */\n",
              "  max-height: 200px;\n",
              "  max-width: 100%;\n",
              "  overflow: auto;\n",
              "}\n",
              "\n",
              "#sk-container-id-1 input.sk-toggleable__control:checked~label.sk-toggleable__label-arrow:before {\n",
              "  content: \"▾\";\n",
              "}\n",
              "\n",
              "/* Pipeline/ColumnTransformer-specific style */\n",
              "\n",
              "#sk-container-id-1 div.sk-label input.sk-toggleable__control:checked~label.sk-toggleable__label {\n",
              "  color: var(--sklearn-color-text);\n",
              "  background-color: var(--sklearn-color-unfitted-level-2);\n",
              "}\n",
              "\n",
              "#sk-container-id-1 div.sk-label.fitted input.sk-toggleable__control:checked~label.sk-toggleable__label {\n",
              "  background-color: var(--sklearn-color-fitted-level-2);\n",
              "}\n",
              "\n",
              "/* Estimator-specific style */\n",
              "\n",
              "/* Colorize estimator box */\n",
              "#sk-container-id-1 div.sk-estimator input.sk-toggleable__control:checked~label.sk-toggleable__label {\n",
              "  /* unfitted */\n",
              "  background-color: var(--sklearn-color-unfitted-level-2);\n",
              "}\n",
              "\n",
              "#sk-container-id-1 div.sk-estimator.fitted input.sk-toggleable__control:checked~label.sk-toggleable__label {\n",
              "  /* fitted */\n",
              "  background-color: var(--sklearn-color-fitted-level-2);\n",
              "}\n",
              "\n",
              "#sk-container-id-1 div.sk-label label.sk-toggleable__label,\n",
              "#sk-container-id-1 div.sk-label label {\n",
              "  /* The background is the default theme color */\n",
              "  color: var(--sklearn-color-text-on-default-background);\n",
              "}\n",
              "\n",
              "/* On hover, darken the color of the background */\n",
              "#sk-container-id-1 div.sk-label:hover label.sk-toggleable__label {\n",
              "  color: var(--sklearn-color-text);\n",
              "  background-color: var(--sklearn-color-unfitted-level-2);\n",
              "}\n",
              "\n",
              "/* Label box, darken color on hover, fitted */\n",
              "#sk-container-id-1 div.sk-label.fitted:hover label.sk-toggleable__label.fitted {\n",
              "  color: var(--sklearn-color-text);\n",
              "  background-color: var(--sklearn-color-fitted-level-2);\n",
              "}\n",
              "\n",
              "/* Estimator label */\n",
              "\n",
              "#sk-container-id-1 div.sk-label label {\n",
              "  font-family: monospace;\n",
              "  font-weight: bold;\n",
              "  display: inline-block;\n",
              "  line-height: 1.2em;\n",
              "}\n",
              "\n",
              "#sk-container-id-1 div.sk-label-container {\n",
              "  text-align: center;\n",
              "}\n",
              "\n",
              "/* Estimator-specific */\n",
              "#sk-container-id-1 div.sk-estimator {\n",
              "  font-family: monospace;\n",
              "  border: 1px dotted var(--sklearn-color-border-box);\n",
              "  border-radius: 0.25em;\n",
              "  box-sizing: border-box;\n",
              "  margin-bottom: 0.5em;\n",
              "  /* unfitted */\n",
              "  background-color: var(--sklearn-color-unfitted-level-0);\n",
              "}\n",
              "\n",
              "#sk-container-id-1 div.sk-estimator.fitted {\n",
              "  /* fitted */\n",
              "  background-color: var(--sklearn-color-fitted-level-0);\n",
              "}\n",
              "\n",
              "/* on hover */\n",
              "#sk-container-id-1 div.sk-estimator:hover {\n",
              "  /* unfitted */\n",
              "  background-color: var(--sklearn-color-unfitted-level-2);\n",
              "}\n",
              "\n",
              "#sk-container-id-1 div.sk-estimator.fitted:hover {\n",
              "  /* fitted */\n",
              "  background-color: var(--sklearn-color-fitted-level-2);\n",
              "}\n",
              "\n",
              "/* Specification for estimator info (e.g. \"i\" and \"?\") */\n",
              "\n",
              "/* Common style for \"i\" and \"?\" */\n",
              "\n",
              ".sk-estimator-doc-link,\n",
              "a:link.sk-estimator-doc-link,\n",
              "a:visited.sk-estimator-doc-link {\n",
              "  float: right;\n",
              "  font-size: smaller;\n",
              "  line-height: 1em;\n",
              "  font-family: monospace;\n",
              "  background-color: var(--sklearn-color-background);\n",
              "  border-radius: 1em;\n",
              "  height: 1em;\n",
              "  width: 1em;\n",
              "  text-decoration: none !important;\n",
              "  margin-left: 0.5em;\n",
              "  text-align: center;\n",
              "  /* unfitted */\n",
              "  border: var(--sklearn-color-unfitted-level-1) 1pt solid;\n",
              "  color: var(--sklearn-color-unfitted-level-1);\n",
              "}\n",
              "\n",
              ".sk-estimator-doc-link.fitted,\n",
              "a:link.sk-estimator-doc-link.fitted,\n",
              "a:visited.sk-estimator-doc-link.fitted {\n",
              "  /* fitted */\n",
              "  border: var(--sklearn-color-fitted-level-1) 1pt solid;\n",
              "  color: var(--sklearn-color-fitted-level-1);\n",
              "}\n",
              "\n",
              "/* On hover */\n",
              "div.sk-estimator:hover .sk-estimator-doc-link:hover,\n",
              ".sk-estimator-doc-link:hover,\n",
              "div.sk-label-container:hover .sk-estimator-doc-link:hover,\n",
              ".sk-estimator-doc-link:hover {\n",
              "  /* unfitted */\n",
              "  background-color: var(--sklearn-color-unfitted-level-3);\n",
              "  color: var(--sklearn-color-background);\n",
              "  text-decoration: none;\n",
              "}\n",
              "\n",
              "div.sk-estimator.fitted:hover .sk-estimator-doc-link.fitted:hover,\n",
              ".sk-estimator-doc-link.fitted:hover,\n",
              "div.sk-label-container:hover .sk-estimator-doc-link.fitted:hover,\n",
              ".sk-estimator-doc-link.fitted:hover {\n",
              "  /* fitted */\n",
              "  background-color: var(--sklearn-color-fitted-level-3);\n",
              "  color: var(--sklearn-color-background);\n",
              "  text-decoration: none;\n",
              "}\n",
              "\n",
              "/* Span, style for the box shown on hovering the info icon */\n",
              ".sk-estimator-doc-link span {\n",
              "  display: none;\n",
              "  z-index: 9999;\n",
              "  position: relative;\n",
              "  font-weight: normal;\n",
              "  right: .2ex;\n",
              "  padding: .5ex;\n",
              "  margin: .5ex;\n",
              "  width: min-content;\n",
              "  min-width: 20ex;\n",
              "  max-width: 50ex;\n",
              "  color: var(--sklearn-color-text);\n",
              "  box-shadow: 2pt 2pt 4pt #999;\n",
              "  /* unfitted */\n",
              "  background: var(--sklearn-color-unfitted-level-0);\n",
              "  border: .5pt solid var(--sklearn-color-unfitted-level-3);\n",
              "}\n",
              "\n",
              ".sk-estimator-doc-link.fitted span {\n",
              "  /* fitted */\n",
              "  background: var(--sklearn-color-fitted-level-0);\n",
              "  border: var(--sklearn-color-fitted-level-3);\n",
              "}\n",
              "\n",
              ".sk-estimator-doc-link:hover span {\n",
              "  display: block;\n",
              "}\n",
              "\n",
              "/* \"?\"-specific style due to the `<a>` HTML tag */\n",
              "\n",
              "#sk-container-id-1 a.estimator_doc_link {\n",
              "  float: right;\n",
              "  font-size: 1rem;\n",
              "  line-height: 1em;\n",
              "  font-family: monospace;\n",
              "  background-color: var(--sklearn-color-background);\n",
              "  border-radius: 1rem;\n",
              "  height: 1rem;\n",
              "  width: 1rem;\n",
              "  text-decoration: none;\n",
              "  /* unfitted */\n",
              "  color: var(--sklearn-color-unfitted-level-1);\n",
              "  border: var(--sklearn-color-unfitted-level-1) 1pt solid;\n",
              "}\n",
              "\n",
              "#sk-container-id-1 a.estimator_doc_link.fitted {\n",
              "  /* fitted */\n",
              "  border: var(--sklearn-color-fitted-level-1) 1pt solid;\n",
              "  color: var(--sklearn-color-fitted-level-1);\n",
              "}\n",
              "\n",
              "/* On hover */\n",
              "#sk-container-id-1 a.estimator_doc_link:hover {\n",
              "  /* unfitted */\n",
              "  background-color: var(--sklearn-color-unfitted-level-3);\n",
              "  color: var(--sklearn-color-background);\n",
              "  text-decoration: none;\n",
              "}\n",
              "\n",
              "#sk-container-id-1 a.estimator_doc_link.fitted:hover {\n",
              "  /* fitted */\n",
              "  background-color: var(--sklearn-color-fitted-level-3);\n",
              "}\n",
              "</style><div id=\"sk-container-id-1\" class=\"sk-top-container\"><div class=\"sk-text-repr-fallback\"><pre>MultiOutputRegressor(estimator=LinearRegression())</pre><b>In a Jupyter environment, please rerun this cell to show the HTML representation or trust the notebook. <br />On GitHub, the HTML representation is unable to render, please try loading this page with nbviewer.org.</b></div><div class=\"sk-container\" hidden><div class=\"sk-item sk-dashed-wrapped\"><div class=\"sk-label-container\"><div class=\"sk-label fitted sk-toggleable\"><input class=\"sk-toggleable__control sk-hidden--visually\" id=\"sk-estimator-id-1\" type=\"checkbox\" ><label for=\"sk-estimator-id-1\" class=\"sk-toggleable__label fitted sk-toggleable__label-arrow\"><div><div>MultiOutputRegressor</div></div><div><a class=\"sk-estimator-doc-link fitted\" rel=\"noreferrer\" target=\"_blank\" href=\"https://scikit-learn.org/1.6/modules/generated/sklearn.multioutput.MultiOutputRegressor.html\">?<span>Documentation for MultiOutputRegressor</span></a><span class=\"sk-estimator-doc-link fitted\">i<span>Fitted</span></span></div></label><div class=\"sk-toggleable__content fitted\"><pre>MultiOutputRegressor(estimator=LinearRegression())</pre></div> </div></div><div class=\"sk-parallel\"><div class=\"sk-parallel-item\"><div class=\"sk-item\"><div class=\"sk-label-container\"><div class=\"sk-label fitted sk-toggleable\"><input class=\"sk-toggleable__control sk-hidden--visually\" id=\"sk-estimator-id-2\" type=\"checkbox\" ><label for=\"sk-estimator-id-2\" class=\"sk-toggleable__label fitted sk-toggleable__label-arrow\"><div><div>estimator: LinearRegression</div></div></label><div class=\"sk-toggleable__content fitted\"><pre>LinearRegression()</pre></div> </div></div><div class=\"sk-serial\"><div class=\"sk-item\"><div class=\"sk-estimator fitted sk-toggleable\"><input class=\"sk-toggleable__control sk-hidden--visually\" id=\"sk-estimator-id-3\" type=\"checkbox\" ><label for=\"sk-estimator-id-3\" class=\"sk-toggleable__label fitted sk-toggleable__label-arrow\"><div><div>LinearRegression</div></div><div><a class=\"sk-estimator-doc-link fitted\" rel=\"noreferrer\" target=\"_blank\" href=\"https://scikit-learn.org/1.6/modules/generated/sklearn.linear_model.LinearRegression.html\">?<span>Documentation for LinearRegression</span></a></div></label><div class=\"sk-toggleable__content fitted\"><pre>LinearRegression()</pre></div> </div></div></div></div></div></div></div></div></div>"
            ]
          },
          "metadata": {},
          "execution_count": 20
        }
      ]
    },
    {
      "cell_type": "code",
      "source": [
        "log_pred = wrapper.predict(x_test)\n",
        "\n",
        "log_pred = log_pred.astype(int)\n",
        "print(log_pred)"
      ],
      "metadata": {
        "colab": {
          "base_uri": "https://localhost:8080/"
        },
        "id": "kSwfjKz6kH-j",
        "outputId": "827ba134-ff93-40cd-8447-5a2f3c1c5694"
      },
      "execution_count": null,
      "outputs": [
        {
          "output_type": "stream",
          "name": "stdout",
          "text": [
            "[[29 38 24]\n",
            " [15  5  7]\n",
            " [39 35 37]\n",
            " ...\n",
            " [ 4  4  5]\n",
            " [25 40 18]\n",
            " [11  8 14]]\n"
          ]
        }
      ]
    },
    {
      "cell_type": "code",
      "source": [
        "#Implementing Support Vector Machine Models\n",
        "\n",
        "from sklearn.svm import SVC\n",
        "from sklearn.multioutput import MultiOutputClassifier"
      ],
      "metadata": {
        "id": "SN8yBTuikKzS"
      },
      "execution_count": null,
      "outputs": []
    },
    {
      "cell_type": "code",
      "source": [
        "clfsvc = SVC(kernel='linear')\n",
        "modelsvc = MultiOutputRegressor(estimator = clfsvc)\n",
        "# fitting x samples and y classes\n",
        "modelsvc.fit(x_train, y_train)"
      ],
      "metadata": {
        "colab": {
          "base_uri": "https://localhost:8080/",
          "height": 179
        },
        "id": "PTaD5t3xkaKU",
        "outputId": "7e48573f-5387-4524-be7c-c6dfa0ec7722"
      },
      "execution_count": null,
      "outputs": [
        {
          "output_type": "execute_result",
          "data": {
            "text/plain": [
              "MultiOutputRegressor(estimator=SVC(kernel='linear'))"
            ],
            "text/html": [
              "<style>#sk-container-id-2 {\n",
              "  /* Definition of color scheme common for light and dark mode */\n",
              "  --sklearn-color-text: #000;\n",
              "  --sklearn-color-text-muted: #666;\n",
              "  --sklearn-color-line: gray;\n",
              "  /* Definition of color scheme for unfitted estimators */\n",
              "  --sklearn-color-unfitted-level-0: #fff5e6;\n",
              "  --sklearn-color-unfitted-level-1: #f6e4d2;\n",
              "  --sklearn-color-unfitted-level-2: #ffe0b3;\n",
              "  --sklearn-color-unfitted-level-3: chocolate;\n",
              "  /* Definition of color scheme for fitted estimators */\n",
              "  --sklearn-color-fitted-level-0: #f0f8ff;\n",
              "  --sklearn-color-fitted-level-1: #d4ebff;\n",
              "  --sklearn-color-fitted-level-2: #b3dbfd;\n",
              "  --sklearn-color-fitted-level-3: cornflowerblue;\n",
              "\n",
              "  /* Specific color for light theme */\n",
              "  --sklearn-color-text-on-default-background: var(--sg-text-color, var(--theme-code-foreground, var(--jp-content-font-color1, black)));\n",
              "  --sklearn-color-background: var(--sg-background-color, var(--theme-background, var(--jp-layout-color0, white)));\n",
              "  --sklearn-color-border-box: var(--sg-text-color, var(--theme-code-foreground, var(--jp-content-font-color1, black)));\n",
              "  --sklearn-color-icon: #696969;\n",
              "\n",
              "  @media (prefers-color-scheme: dark) {\n",
              "    /* Redefinition of color scheme for dark theme */\n",
              "    --sklearn-color-text-on-default-background: var(--sg-text-color, var(--theme-code-foreground, var(--jp-content-font-color1, white)));\n",
              "    --sklearn-color-background: var(--sg-background-color, var(--theme-background, var(--jp-layout-color0, #111)));\n",
              "    --sklearn-color-border-box: var(--sg-text-color, var(--theme-code-foreground, var(--jp-content-font-color1, white)));\n",
              "    --sklearn-color-icon: #878787;\n",
              "  }\n",
              "}\n",
              "\n",
              "#sk-container-id-2 {\n",
              "  color: var(--sklearn-color-text);\n",
              "}\n",
              "\n",
              "#sk-container-id-2 pre {\n",
              "  padding: 0;\n",
              "}\n",
              "\n",
              "#sk-container-id-2 input.sk-hidden--visually {\n",
              "  border: 0;\n",
              "  clip: rect(1px 1px 1px 1px);\n",
              "  clip: rect(1px, 1px, 1px, 1px);\n",
              "  height: 1px;\n",
              "  margin: -1px;\n",
              "  overflow: hidden;\n",
              "  padding: 0;\n",
              "  position: absolute;\n",
              "  width: 1px;\n",
              "}\n",
              "\n",
              "#sk-container-id-2 div.sk-dashed-wrapped {\n",
              "  border: 1px dashed var(--sklearn-color-line);\n",
              "  margin: 0 0.4em 0.5em 0.4em;\n",
              "  box-sizing: border-box;\n",
              "  padding-bottom: 0.4em;\n",
              "  background-color: var(--sklearn-color-background);\n",
              "}\n",
              "\n",
              "#sk-container-id-2 div.sk-container {\n",
              "  /* jupyter's `normalize.less` sets `[hidden] { display: none; }`\n",
              "     but bootstrap.min.css set `[hidden] { display: none !important; }`\n",
              "     so we also need the `!important` here to be able to override the\n",
              "     default hidden behavior on the sphinx rendered scikit-learn.org.\n",
              "     See: https://github.com/scikit-learn/scikit-learn/issues/21755 */\n",
              "  display: inline-block !important;\n",
              "  position: relative;\n",
              "}\n",
              "\n",
              "#sk-container-id-2 div.sk-text-repr-fallback {\n",
              "  display: none;\n",
              "}\n",
              "\n",
              "div.sk-parallel-item,\n",
              "div.sk-serial,\n",
              "div.sk-item {\n",
              "  /* draw centered vertical line to link estimators */\n",
              "  background-image: linear-gradient(var(--sklearn-color-text-on-default-background), var(--sklearn-color-text-on-default-background));\n",
              "  background-size: 2px 100%;\n",
              "  background-repeat: no-repeat;\n",
              "  background-position: center center;\n",
              "}\n",
              "\n",
              "/* Parallel-specific style estimator block */\n",
              "\n",
              "#sk-container-id-2 div.sk-parallel-item::after {\n",
              "  content: \"\";\n",
              "  width: 100%;\n",
              "  border-bottom: 2px solid var(--sklearn-color-text-on-default-background);\n",
              "  flex-grow: 1;\n",
              "}\n",
              "\n",
              "#sk-container-id-2 div.sk-parallel {\n",
              "  display: flex;\n",
              "  align-items: stretch;\n",
              "  justify-content: center;\n",
              "  background-color: var(--sklearn-color-background);\n",
              "  position: relative;\n",
              "}\n",
              "\n",
              "#sk-container-id-2 div.sk-parallel-item {\n",
              "  display: flex;\n",
              "  flex-direction: column;\n",
              "}\n",
              "\n",
              "#sk-container-id-2 div.sk-parallel-item:first-child::after {\n",
              "  align-self: flex-end;\n",
              "  width: 50%;\n",
              "}\n",
              "\n",
              "#sk-container-id-2 div.sk-parallel-item:last-child::after {\n",
              "  align-self: flex-start;\n",
              "  width: 50%;\n",
              "}\n",
              "\n",
              "#sk-container-id-2 div.sk-parallel-item:only-child::after {\n",
              "  width: 0;\n",
              "}\n",
              "\n",
              "/* Serial-specific style estimator block */\n",
              "\n",
              "#sk-container-id-2 div.sk-serial {\n",
              "  display: flex;\n",
              "  flex-direction: column;\n",
              "  align-items: center;\n",
              "  background-color: var(--sklearn-color-background);\n",
              "  padding-right: 1em;\n",
              "  padding-left: 1em;\n",
              "}\n",
              "\n",
              "\n",
              "/* Toggleable style: style used for estimator/Pipeline/ColumnTransformer box that is\n",
              "clickable and can be expanded/collapsed.\n",
              "- Pipeline and ColumnTransformer use this feature and define the default style\n",
              "- Estimators will overwrite some part of the style using the `sk-estimator` class\n",
              "*/\n",
              "\n",
              "/* Pipeline and ColumnTransformer style (default) */\n",
              "\n",
              "#sk-container-id-2 div.sk-toggleable {\n",
              "  /* Default theme specific background. It is overwritten whether we have a\n",
              "  specific estimator or a Pipeline/ColumnTransformer */\n",
              "  background-color: var(--sklearn-color-background);\n",
              "}\n",
              "\n",
              "/* Toggleable label */\n",
              "#sk-container-id-2 label.sk-toggleable__label {\n",
              "  cursor: pointer;\n",
              "  display: flex;\n",
              "  width: 100%;\n",
              "  margin-bottom: 0;\n",
              "  padding: 0.5em;\n",
              "  box-sizing: border-box;\n",
              "  text-align: center;\n",
              "  align-items: start;\n",
              "  justify-content: space-between;\n",
              "  gap: 0.5em;\n",
              "}\n",
              "\n",
              "#sk-container-id-2 label.sk-toggleable__label .caption {\n",
              "  font-size: 0.6rem;\n",
              "  font-weight: lighter;\n",
              "  color: var(--sklearn-color-text-muted);\n",
              "}\n",
              "\n",
              "#sk-container-id-2 label.sk-toggleable__label-arrow:before {\n",
              "  /* Arrow on the left of the label */\n",
              "  content: \"▸\";\n",
              "  float: left;\n",
              "  margin-right: 0.25em;\n",
              "  color: var(--sklearn-color-icon);\n",
              "}\n",
              "\n",
              "#sk-container-id-2 label.sk-toggleable__label-arrow:hover:before {\n",
              "  color: var(--sklearn-color-text);\n",
              "}\n",
              "\n",
              "/* Toggleable content - dropdown */\n",
              "\n",
              "#sk-container-id-2 div.sk-toggleable__content {\n",
              "  max-height: 0;\n",
              "  max-width: 0;\n",
              "  overflow: hidden;\n",
              "  text-align: left;\n",
              "  /* unfitted */\n",
              "  background-color: var(--sklearn-color-unfitted-level-0);\n",
              "}\n",
              "\n",
              "#sk-container-id-2 div.sk-toggleable__content.fitted {\n",
              "  /* fitted */\n",
              "  background-color: var(--sklearn-color-fitted-level-0);\n",
              "}\n",
              "\n",
              "#sk-container-id-2 div.sk-toggleable__content pre {\n",
              "  margin: 0.2em;\n",
              "  border-radius: 0.25em;\n",
              "  color: var(--sklearn-color-text);\n",
              "  /* unfitted */\n",
              "  background-color: var(--sklearn-color-unfitted-level-0);\n",
              "}\n",
              "\n",
              "#sk-container-id-2 div.sk-toggleable__content.fitted pre {\n",
              "  /* unfitted */\n",
              "  background-color: var(--sklearn-color-fitted-level-0);\n",
              "}\n",
              "\n",
              "#sk-container-id-2 input.sk-toggleable__control:checked~div.sk-toggleable__content {\n",
              "  /* Expand drop-down */\n",
              "  max-height: 200px;\n",
              "  max-width: 100%;\n",
              "  overflow: auto;\n",
              "}\n",
              "\n",
              "#sk-container-id-2 input.sk-toggleable__control:checked~label.sk-toggleable__label-arrow:before {\n",
              "  content: \"▾\";\n",
              "}\n",
              "\n",
              "/* Pipeline/ColumnTransformer-specific style */\n",
              "\n",
              "#sk-container-id-2 div.sk-label input.sk-toggleable__control:checked~label.sk-toggleable__label {\n",
              "  color: var(--sklearn-color-text);\n",
              "  background-color: var(--sklearn-color-unfitted-level-2);\n",
              "}\n",
              "\n",
              "#sk-container-id-2 div.sk-label.fitted input.sk-toggleable__control:checked~label.sk-toggleable__label {\n",
              "  background-color: var(--sklearn-color-fitted-level-2);\n",
              "}\n",
              "\n",
              "/* Estimator-specific style */\n",
              "\n",
              "/* Colorize estimator box */\n",
              "#sk-container-id-2 div.sk-estimator input.sk-toggleable__control:checked~label.sk-toggleable__label {\n",
              "  /* unfitted */\n",
              "  background-color: var(--sklearn-color-unfitted-level-2);\n",
              "}\n",
              "\n",
              "#sk-container-id-2 div.sk-estimator.fitted input.sk-toggleable__control:checked~label.sk-toggleable__label {\n",
              "  /* fitted */\n",
              "  background-color: var(--sklearn-color-fitted-level-2);\n",
              "}\n",
              "\n",
              "#sk-container-id-2 div.sk-label label.sk-toggleable__label,\n",
              "#sk-container-id-2 div.sk-label label {\n",
              "  /* The background is the default theme color */\n",
              "  color: var(--sklearn-color-text-on-default-background);\n",
              "}\n",
              "\n",
              "/* On hover, darken the color of the background */\n",
              "#sk-container-id-2 div.sk-label:hover label.sk-toggleable__label {\n",
              "  color: var(--sklearn-color-text);\n",
              "  background-color: var(--sklearn-color-unfitted-level-2);\n",
              "}\n",
              "\n",
              "/* Label box, darken color on hover, fitted */\n",
              "#sk-container-id-2 div.sk-label.fitted:hover label.sk-toggleable__label.fitted {\n",
              "  color: var(--sklearn-color-text);\n",
              "  background-color: var(--sklearn-color-fitted-level-2);\n",
              "}\n",
              "\n",
              "/* Estimator label */\n",
              "\n",
              "#sk-container-id-2 div.sk-label label {\n",
              "  font-family: monospace;\n",
              "  font-weight: bold;\n",
              "  display: inline-block;\n",
              "  line-height: 1.2em;\n",
              "}\n",
              "\n",
              "#sk-container-id-2 div.sk-label-container {\n",
              "  text-align: center;\n",
              "}\n",
              "\n",
              "/* Estimator-specific */\n",
              "#sk-container-id-2 div.sk-estimator {\n",
              "  font-family: monospace;\n",
              "  border: 1px dotted var(--sklearn-color-border-box);\n",
              "  border-radius: 0.25em;\n",
              "  box-sizing: border-box;\n",
              "  margin-bottom: 0.5em;\n",
              "  /* unfitted */\n",
              "  background-color: var(--sklearn-color-unfitted-level-0);\n",
              "}\n",
              "\n",
              "#sk-container-id-2 div.sk-estimator.fitted {\n",
              "  /* fitted */\n",
              "  background-color: var(--sklearn-color-fitted-level-0);\n",
              "}\n",
              "\n",
              "/* on hover */\n",
              "#sk-container-id-2 div.sk-estimator:hover {\n",
              "  /* unfitted */\n",
              "  background-color: var(--sklearn-color-unfitted-level-2);\n",
              "}\n",
              "\n",
              "#sk-container-id-2 div.sk-estimator.fitted:hover {\n",
              "  /* fitted */\n",
              "  background-color: var(--sklearn-color-fitted-level-2);\n",
              "}\n",
              "\n",
              "/* Specification for estimator info (e.g. \"i\" and \"?\") */\n",
              "\n",
              "/* Common style for \"i\" and \"?\" */\n",
              "\n",
              ".sk-estimator-doc-link,\n",
              "a:link.sk-estimator-doc-link,\n",
              "a:visited.sk-estimator-doc-link {\n",
              "  float: right;\n",
              "  font-size: smaller;\n",
              "  line-height: 1em;\n",
              "  font-family: monospace;\n",
              "  background-color: var(--sklearn-color-background);\n",
              "  border-radius: 1em;\n",
              "  height: 1em;\n",
              "  width: 1em;\n",
              "  text-decoration: none !important;\n",
              "  margin-left: 0.5em;\n",
              "  text-align: center;\n",
              "  /* unfitted */\n",
              "  border: var(--sklearn-color-unfitted-level-1) 1pt solid;\n",
              "  color: var(--sklearn-color-unfitted-level-1);\n",
              "}\n",
              "\n",
              ".sk-estimator-doc-link.fitted,\n",
              "a:link.sk-estimator-doc-link.fitted,\n",
              "a:visited.sk-estimator-doc-link.fitted {\n",
              "  /* fitted */\n",
              "  border: var(--sklearn-color-fitted-level-1) 1pt solid;\n",
              "  color: var(--sklearn-color-fitted-level-1);\n",
              "}\n",
              "\n",
              "/* On hover */\n",
              "div.sk-estimator:hover .sk-estimator-doc-link:hover,\n",
              ".sk-estimator-doc-link:hover,\n",
              "div.sk-label-container:hover .sk-estimator-doc-link:hover,\n",
              ".sk-estimator-doc-link:hover {\n",
              "  /* unfitted */\n",
              "  background-color: var(--sklearn-color-unfitted-level-3);\n",
              "  color: var(--sklearn-color-background);\n",
              "  text-decoration: none;\n",
              "}\n",
              "\n",
              "div.sk-estimator.fitted:hover .sk-estimator-doc-link.fitted:hover,\n",
              ".sk-estimator-doc-link.fitted:hover,\n",
              "div.sk-label-container:hover .sk-estimator-doc-link.fitted:hover,\n",
              ".sk-estimator-doc-link.fitted:hover {\n",
              "  /* fitted */\n",
              "  background-color: var(--sklearn-color-fitted-level-3);\n",
              "  color: var(--sklearn-color-background);\n",
              "  text-decoration: none;\n",
              "}\n",
              "\n",
              "/* Span, style for the box shown on hovering the info icon */\n",
              ".sk-estimator-doc-link span {\n",
              "  display: none;\n",
              "  z-index: 9999;\n",
              "  position: relative;\n",
              "  font-weight: normal;\n",
              "  right: .2ex;\n",
              "  padding: .5ex;\n",
              "  margin: .5ex;\n",
              "  width: min-content;\n",
              "  min-width: 20ex;\n",
              "  max-width: 50ex;\n",
              "  color: var(--sklearn-color-text);\n",
              "  box-shadow: 2pt 2pt 4pt #999;\n",
              "  /* unfitted */\n",
              "  background: var(--sklearn-color-unfitted-level-0);\n",
              "  border: .5pt solid var(--sklearn-color-unfitted-level-3);\n",
              "}\n",
              "\n",
              ".sk-estimator-doc-link.fitted span {\n",
              "  /* fitted */\n",
              "  background: var(--sklearn-color-fitted-level-0);\n",
              "  border: var(--sklearn-color-fitted-level-3);\n",
              "}\n",
              "\n",
              ".sk-estimator-doc-link:hover span {\n",
              "  display: block;\n",
              "}\n",
              "\n",
              "/* \"?\"-specific style due to the `<a>` HTML tag */\n",
              "\n",
              "#sk-container-id-2 a.estimator_doc_link {\n",
              "  float: right;\n",
              "  font-size: 1rem;\n",
              "  line-height: 1em;\n",
              "  font-family: monospace;\n",
              "  background-color: var(--sklearn-color-background);\n",
              "  border-radius: 1rem;\n",
              "  height: 1rem;\n",
              "  width: 1rem;\n",
              "  text-decoration: none;\n",
              "  /* unfitted */\n",
              "  color: var(--sklearn-color-unfitted-level-1);\n",
              "  border: var(--sklearn-color-unfitted-level-1) 1pt solid;\n",
              "}\n",
              "\n",
              "#sk-container-id-2 a.estimator_doc_link.fitted {\n",
              "  /* fitted */\n",
              "  border: var(--sklearn-color-fitted-level-1) 1pt solid;\n",
              "  color: var(--sklearn-color-fitted-level-1);\n",
              "}\n",
              "\n",
              "/* On hover */\n",
              "#sk-container-id-2 a.estimator_doc_link:hover {\n",
              "  /* unfitted */\n",
              "  background-color: var(--sklearn-color-unfitted-level-3);\n",
              "  color: var(--sklearn-color-background);\n",
              "  text-decoration: none;\n",
              "}\n",
              "\n",
              "#sk-container-id-2 a.estimator_doc_link.fitted:hover {\n",
              "  /* fitted */\n",
              "  background-color: var(--sklearn-color-fitted-level-3);\n",
              "}\n",
              "</style><div id=\"sk-container-id-2\" class=\"sk-top-container\"><div class=\"sk-text-repr-fallback\"><pre>MultiOutputRegressor(estimator=SVC(kernel=&#x27;linear&#x27;))</pre><b>In a Jupyter environment, please rerun this cell to show the HTML representation or trust the notebook. <br />On GitHub, the HTML representation is unable to render, please try loading this page with nbviewer.org.</b></div><div class=\"sk-container\" hidden><div class=\"sk-item sk-dashed-wrapped\"><div class=\"sk-label-container\"><div class=\"sk-label fitted sk-toggleable\"><input class=\"sk-toggleable__control sk-hidden--visually\" id=\"sk-estimator-id-4\" type=\"checkbox\" ><label for=\"sk-estimator-id-4\" class=\"sk-toggleable__label fitted sk-toggleable__label-arrow\"><div><div>MultiOutputRegressor</div></div><div><a class=\"sk-estimator-doc-link fitted\" rel=\"noreferrer\" target=\"_blank\" href=\"https://scikit-learn.org/1.6/modules/generated/sklearn.multioutput.MultiOutputRegressor.html\">?<span>Documentation for MultiOutputRegressor</span></a><span class=\"sk-estimator-doc-link fitted\">i<span>Fitted</span></span></div></label><div class=\"sk-toggleable__content fitted\"><pre>MultiOutputRegressor(estimator=SVC(kernel=&#x27;linear&#x27;))</pre></div> </div></div><div class=\"sk-parallel\"><div class=\"sk-parallel-item\"><div class=\"sk-item\"><div class=\"sk-label-container\"><div class=\"sk-label fitted sk-toggleable\"><input class=\"sk-toggleable__control sk-hidden--visually\" id=\"sk-estimator-id-5\" type=\"checkbox\" ><label for=\"sk-estimator-id-5\" class=\"sk-toggleable__label fitted sk-toggleable__label-arrow\"><div><div>estimator: SVC</div></div></label><div class=\"sk-toggleable__content fitted\"><pre>SVC(kernel=&#x27;linear&#x27;)</pre></div> </div></div><div class=\"sk-serial\"><div class=\"sk-item\"><div class=\"sk-estimator fitted sk-toggleable\"><input class=\"sk-toggleable__control sk-hidden--visually\" id=\"sk-estimator-id-6\" type=\"checkbox\" ><label for=\"sk-estimator-id-6\" class=\"sk-toggleable__label fitted sk-toggleable__label-arrow\"><div><div>SVC</div></div><div><a class=\"sk-estimator-doc-link fitted\" rel=\"noreferrer\" target=\"_blank\" href=\"https://scikit-learn.org/1.6/modules/generated/sklearn.svm.SVC.html\">?<span>Documentation for SVC</span></a></div></label><div class=\"sk-toggleable__content fitted\"><pre>SVC(kernel=&#x27;linear&#x27;)</pre></div> </div></div></div></div></div></div></div></div></div>"
            ]
          },
          "metadata": {},
          "execution_count": 23
        }
      ]
    },
    {
      "cell_type": "code",
      "source": [
        "predSVC = modelsvc.predict(x_test)"
      ],
      "metadata": {
        "id": "fpY4UglBkcmm"
      },
      "execution_count": null,
      "outputs": []
    },
    {
      "cell_type": "code",
      "source": [
        "accuracySVC = np.mean(predSVC == y_test)\n",
        "\n",
        "print(accuracySVC)"
      ],
      "metadata": {
        "colab": {
          "base_uri": "https://localhost:8080/"
        },
        "id": "VUbL9Qfvkgh1",
        "outputId": "8d395051-38f4-414f-f557-0a7bdd348e1c"
      },
      "execution_count": null,
      "outputs": [
        {
          "output_type": "stream",
          "name": "stdout",
          "text": [
            "0.9997588908981314\n"
          ]
        }
      ]
    },
    {
      "cell_type": "code",
      "source": [
        "plt.scatter(x_test[:,-1], y_test[:,-1])"
      ],
      "metadata": {
        "colab": {
          "base_uri": "https://localhost:8080/",
          "height": 447
        },
        "id": "mAvuS0c2klpM",
        "outputId": "4a7eb3f4-97ce-4f9d-b782-916afbea0c14"
      },
      "execution_count": null,
      "outputs": [
        {
          "output_type": "execute_result",
          "data": {
            "text/plain": [
              "<matplotlib.collections.PathCollection at 0x79cf5c128c10>"
            ]
          },
          "metadata": {},
          "execution_count": 26
        },
        {
          "output_type": "display_data",
          "data": {
            "text/plain": [
              "<Figure size 640x480 with 1 Axes>"
            ],
            "image/png": "[encoded data removed]"
          },
          "metadata": {}
        }
      ]
    },
    {
      "cell_type": "code",
      "source": [
        "modeldata = teen_data[['Q1A','Q6A','Q8A','Q11A','Q12A','Q14A','Q18A','Q22A','Q27A','Q29A','Q32A','Q33A','Q35A','Q39A',\n",
        "\"Q2A\",\"Q4A\",\"Q7A\",\"Q9A\",\"Q15A\",\"Q19A\",\"Q20A\",\"Q23A\",\"Q25A\",\"Q28A\",\"Q30A\",\"Q36A\",\"Q40A\",\"Q41A\",'age',\"Q3A\",\"Q5A\",\"Q10A\",\"Q13A\",\"Q16A\",\"Q17A\",\"Q21A\",\"Q24A\",\"Q26A\",\"Q31A\",\"Q34A\",\"Q37A\",\"Q38A\",\"Q42A\",'Stress','Depression','Anxiety']]\n",
        "\n",
        "\n",
        "len(modeldata.columns)"
      ],
      "metadata": {
        "colab": {
          "base_uri": "https://localhost:8080/"
        },
        "id": "zPpnV73Jknwn",
        "outputId": "d2b587ae-4d22-4b5d-8adb-02736bd04dd8"
      },
      "execution_count": null,
      "outputs": [
        {
          "output_type": "execute_result",
          "data": {
            "text/plain": [
              "46"
            ]
          },
          "metadata": {},
          "execution_count": 27
        }
      ]
    },
    {
      "cell_type": "code",
      "source": [
        "X = modeldata.iloc[:, :43].values\n",
        "Y = modeldata.iloc[:, 43:].values\n",
        "\n",
        "x_train, x_test, y_train, y_test = train_test_split(X, Y,\n",
        "    test_size=0.2, random_state= 8)"
      ],
      "metadata": {
        "id": "QRst9KkTkq0K"
      },
      "execution_count": null,
      "outputs": []
    },
    {
      "cell_type": "code",
      "source": [
        "print(x_train.shape)\n",
        "print(y_train.shape)\n",
        "print(x_test.shape)\n",
        "print(y_test.shape)"
      ],
      "metadata": {
        "colab": {
          "base_uri": "https://localhost:8080/"
        },
        "id": "ptUtZe0RkuI7",
        "outputId": "7574f7bc-9fae-4f97-94ad-37b6793b26bb"
      },
      "execution_count": null,
      "outputs": [
        {
          "output_type": "stream",
          "name": "stdout",
          "text": [
            "(11060, 43)\n",
            "(11060, 3)\n",
            "(2765, 43)\n",
            "(2765, 3)\n"
          ]
        }
      ]
    },
    {
      "cell_type": "code",
      "source": [
        "X_trainA = x_train[:, 14:29]\n",
        "Y_trainA = y_train[:, -1]\n",
        "\n",
        "X_testA = x_test[:, 14:29]\n",
        "Y_testA = y_test[:, -1]\n",
        "\n",
        "print(X_trainA.shape)\n",
        "print(Y_trainA.shape)\n",
        "print(X_testA.shape)\n",
        "print(Y_testA.shape)"
      ],
      "metadata": {
        "colab": {
          "base_uri": "https://localhost:8080/"
        },
        "id": "DS7R3Tzbkwxa",
        "outputId": "bf17032d-0567-4d42-a2cc-0db928affd06"
      },
      "execution_count": null,
      "outputs": [
        {
          "output_type": "stream",
          "name": "stdout",
          "text": [
            "(11060, 15)\n",
            "(11060,)\n",
            "(2765, 15)\n",
            "(2765,)\n"
          ]
        }
      ]
    },
    {
      "cell_type": "code",
      "source": [
        "#Implementing Logistic Regression for Anxiety\n",
        "\n",
        "from sklearn.linear_model import LogisticRegression\n",
        "\n",
        "modelA = LogisticRegression(random_state=0, multi_class='multinomial', solver='saga',max_iter=10000).fit(X_trainA, Y_trainA)"
      ],
      "metadata": {
        "colab": {
          "base_uri": "https://localhost:8080/"
        },
        "id": "iRU2iOjTkzqD",
        "outputId": "da6463d4-8647-4474-86a1-3f5cabc8541b"
      },
      "execution_count": null,
      "outputs": [
        {
          "output_type": "stream",
          "name": "stderr",
          "text": [
            "/usr/local/lib/python3.11/dist-packages/sklearn/linear_model/_logistic.py:1247: FutureWarning: 'multi_class' was deprecated in version 1.5 and will be removed in 1.7. From then on, it will always use 'multinomial'. Leave it to its default value to avoid this warning.\n",
            "  warnings.warn(\n"
          ]
        }
      ]
    },
    {
      "cell_type": "code",
      "source": [
        "lrpredA = modelA.predict(X_testA)"
      ],
      "metadata": {
        "id": "v99vUA3yk5jX"
      },
      "execution_count": null,
      "outputs": []
    },
    {
      "cell_type": "code",
      "source": [
        "modelA.score(X_trainA, Y_trainA)"
      ],
      "metadata": {
        "colab": {
          "base_uri": "https://localhost:8080/"
        },
        "id": "muohGqk8k924",
        "outputId": "5a219369-25cf-4d38-dee7-ae967dffacaf"
      },
      "execution_count": null,
      "outputs": [
        {
          "output_type": "execute_result",
          "data": {
            "text/plain": [
              "1.0"
            ]
          },
          "metadata": {},
          "execution_count": 33
        }
      ]
    },
    {
      "cell_type": "code",
      "source": [
        "lraccuracyA = np.mean(lrpredA == Y_testA)\n",
        "\n",
        "print(lraccuracyA)"
      ],
      "metadata": {
        "colab": {
          "base_uri": "https://localhost:8080/"
        },
        "id": "SZjVcQ0BlBFq",
        "outputId": "c7e767cd-6700-46ed-f294-b40364bf0e8b"
      },
      "execution_count": null,
      "outputs": [
        {
          "output_type": "stream",
          "name": "stdout",
          "text": [
            "0.9996383363471971\n"
          ]
        }
      ]
    },
    {
      "cell_type": "code",
      "source": [
        "from sklearn.metrics import classification_report\n",
        "\n",
        "print(classification_report(Y_testA, lrpredA))"
      ],
      "metadata": {
        "colab": {
          "base_uri": "https://localhost:8080/"
        },
        "id": "W61iV7YPlERj",
        "outputId": "2393c5e6-e949-4ff4-9ff9-00330e097265"
      },
      "execution_count": null,
      "outputs": [
        {
          "output_type": "stream",
          "name": "stdout",
          "text": [
            "              precision    recall  f1-score   support\n",
            "\n",
            " Extremely A       1.00      1.00      1.00      1297\n",
            "      Mild A       1.00      0.99      1.00       172\n",
            "  Moderate A       1.00      1.00      1.00       426\n",
            "    Normal A       1.00      1.00      1.00       423\n",
            "    Severe A       1.00      1.00      1.00       447\n",
            "\n",
            "    accuracy                           1.00      2765\n",
            "   macro avg       1.00      1.00      1.00      2765\n",
            "weighted avg       1.00      1.00      1.00      2765\n",
            "\n"
          ]
        }
      ]
    },
    {
      "cell_type": "code",
      "source": [
        "#Implementing Random Forest for Anxiety\n",
        "# Import the model we are using\n",
        "from sklearn.ensemble import RandomForestClassifier"
      ],
      "metadata": {
        "id": "iV-UrkhvlH_j"
      },
      "execution_count": null,
      "outputs": []
    },
    {
      "cell_type": "code",
      "source": [
        "# Instantiate model with 1000 decision trees\n",
        "rf = RandomForestClassifier(n_estimators = 1000, random_state = 42)\n",
        "# Train the model on training data\n",
        "rf = rf.fit(X_trainA, Y_trainA)"
      ],
      "metadata": {
        "id": "f_IFdqEUlY5y"
      },
      "execution_count": null,
      "outputs": []
    },
    {
      "cell_type": "code",
      "source": [
        "# Use the forest's predict method on the test data\n",
        "rfpredA = rf.predict(X_testA)\n",
        "\n",
        "rfaccuracyA = np.mean(rfpredA == Y_testA)\n",
        "\n",
        "print(rfaccuracyA)"
      ],
      "metadata": {
        "colab": {
          "base_uri": "https://localhost:8080/"
        },
        "id": "fyhEuzTElg0T",
        "outputId": "f8ce56b8-21a3-4e6e-e5d9-1e54fadaf83f"
      },
      "execution_count": null,
      "outputs": [
        {
          "output_type": "stream",
          "name": "stdout",
          "text": [
            "0.8806509945750453\n"
          ]
        }
      ]
    },
    {
      "cell_type": "code",
      "source": [
        "from sklearn import metrics\n",
        "\n",
        "print(\"Accuracy score is\", metrics.accuracy_score(Y_testA, rfpredA ))"
      ],
      "metadata": {
        "colab": {
          "base_uri": "https://localhost:8080/"
        },
        "id": "d2TUPycwljjy",
        "outputId": "98f19903-ff3d-4498-ccd8-9dfdf9246801"
      },
      "execution_count": null,
      "outputs": [
        {
          "output_type": "stream",
          "name": "stdout",
          "text": [
            "Accuracy score is 0.8806509945750453\n"
          ]
        }
      ]
    },
    {
      "cell_type": "code",
      "source": [
        "print(classification_report(Y_testA, rfpredA))"
      ],
      "metadata": {
        "colab": {
          "base_uri": "https://localhost:8080/"
        },
        "id": "poatXqualnpT",
        "outputId": "4a81c8ad-9665-47e0-91ab-1332955e0c6f"
      },
      "execution_count": null,
      "outputs": [
        {
          "output_type": "stream",
          "name": "stdout",
          "text": [
            "              precision    recall  f1-score   support\n",
            "\n",
            " Extremely A       0.96      0.97      0.97      1297\n",
            "      Mild A       0.69      0.20      0.31       172\n",
            "  Moderate A       0.74      0.88      0.80       426\n",
            "    Normal A       0.85      0.98      0.91       423\n",
            "    Severe A       0.84      0.78      0.81       447\n",
            "\n",
            "    accuracy                           0.88      2765\n",
            "   macro avg       0.82      0.76      0.76      2765\n",
            "weighted avg       0.88      0.88      0.87      2765\n",
            "\n"
          ]
        }
      ]
    },
    {
      "cell_type": "code",
      "source": [
        "#Implementing Decision Tree for Anxiety\n",
        "\n",
        "from sklearn.tree import DecisionTreeClassifier\n",
        "from sklearn import tree"
      ],
      "metadata": {
        "id": "-Czwb3pblqi9"
      },
      "execution_count": null,
      "outputs": []
    },
    {
      "cell_type": "code",
      "source": [
        "dt = tree.DecisionTreeClassifier()\n",
        "dt = dt.fit(X_trainA, Y_trainA)"
      ],
      "metadata": {
        "id": "IKW-mZmdltl_"
      },
      "execution_count": null,
      "outputs": []
    },
    {
      "cell_type": "code",
      "source": [
        "dtpredA = dt.predict(X_testA)\n",
        "\n",
        "dtaccuracyA = np.mean(dtpredA == Y_testA)\n",
        "\n",
        "print(dtaccuracyA)"
      ],
      "metadata": {
        "colab": {
          "base_uri": "https://localhost:8080/"
        },
        "id": "E1pItOE6lwkG",
        "outputId": "6e121a5b-2509-46d0-9c6e-480ba055e628"
      },
      "execution_count": null,
      "outputs": [
        {
          "output_type": "stream",
          "name": "stdout",
          "text": [
            "0.7529837251356238\n"
          ]
        }
      ]
    },
    {
      "cell_type": "code",
      "source": [
        "print(classification_report(Y_testA, dtpredA))"
      ],
      "metadata": {
        "colab": {
          "base_uri": "https://localhost:8080/"
        },
        "id": "W4Ev5xMbl0L3",
        "outputId": "8a63fbd5-41ce-406e-f0fd-55abc4c2e86e"
      },
      "execution_count": null,
      "outputs": [
        {
          "output_type": "stream",
          "name": "stdout",
          "text": [
            "              precision    recall  f1-score   support\n",
            "\n",
            " Extremely A       0.92      0.91      0.92      1297\n",
            "      Mild A       0.33      0.33      0.33       172\n",
            "  Moderate A       0.57      0.58      0.58       426\n",
            "    Normal A       0.82      0.86      0.84       423\n",
            "    Severe A       0.54      0.52      0.53       447\n",
            "\n",
            "    accuracy                           0.75      2765\n",
            "   macro avg       0.64      0.64      0.64      2765\n",
            "weighted avg       0.75      0.75      0.75      2765\n",
            "\n"
          ]
        }
      ]
    },
    {
      "cell_type": "code",
      "source": [
        "#Implementing Support Vector Machine for Anxiety\n",
        "from sklearn.svm import SVC"
      ],
      "metadata": {
        "id": "iAzm47dsl30J"
      },
      "execution_count": null,
      "outputs": []
    },
    {
      "cell_type": "code",
      "source": [
        "svm = SVC(kernel = 'linear')\n",
        "svm = svm.fit(X_trainA, Y_trainA)"
      ],
      "metadata": {
        "id": "Te4X2QRWl7fF"
      },
      "execution_count": null,
      "outputs": []
    },
    {
      "cell_type": "code",
      "source": [
        "svmpredA = svm.predict(X_testA)\n",
        "\n",
        "svmaccuracyA = np.mean(svmpredA == Y_testA)\n",
        "\n",
        "print(svmaccuracyA)"
      ],
      "metadata": {
        "colab": {
          "base_uri": "https://localhost:8080/"
        },
        "id": "umJcQ7lfl-14",
        "outputId": "adaed65d-b4c0-427a-bff5-d0c8a2853dc2"
      },
      "execution_count": null,
      "outputs": [
        {
          "output_type": "stream",
          "name": "stdout",
          "text": [
            "1.0\n"
          ]
        }
      ]
    },
    {
      "cell_type": "code",
      "source": [
        "print(classification_report(Y_testA, svmpredA))"
      ],
      "metadata": {
        "colab": {
          "base_uri": "https://localhost:8080/"
        },
        "id": "bgbDMrs7mB5K",
        "outputId": "f0559adc-0c7f-45f8-c23e-0e446f62cc0d"
      },
      "execution_count": null,
      "outputs": [
        {
          "output_type": "stream",
          "name": "stdout",
          "text": [
            "              precision    recall  f1-score   support\n",
            "\n",
            " Extremely A       1.00      1.00      1.00      1297\n",
            "      Mild A       1.00      1.00      1.00       172\n",
            "  Moderate A       1.00      1.00      1.00       426\n",
            "    Normal A       1.00      1.00      1.00       423\n",
            "    Severe A       1.00      1.00      1.00       447\n",
            "\n",
            "    accuracy                           1.00      2765\n",
            "   macro avg       1.00      1.00      1.00      2765\n",
            "weighted avg       1.00      1.00      1.00      2765\n",
            "\n"
          ]
        }
      ]
    },
    {
      "cell_type": "code",
      "source": [
        "#Implementing Naive Bayes for Anxiety\n",
        "from sklearn.naive_bayes import GaussianNB"
      ],
      "metadata": {
        "id": "YwavnqL3mFVw"
      },
      "execution_count": null,
      "outputs": []
    },
    {
      "cell_type": "code",
      "source": [
        "gnb = GaussianNB()\n",
        "gnb = gnb.fit(X_trainA, Y_trainA)"
      ],
      "metadata": {
        "id": "V3kqE_3FmI3x"
      },
      "execution_count": null,
      "outputs": []
    },
    {
      "cell_type": "code",
      "source": [
        "gnbpredA = gnb.predict(X_testA)\n",
        "\n",
        "gnbaccuracyA = np.mean(gnbpredA == Y_testA)\n",
        "\n",
        "print(gnbaccuracyA)"
      ],
      "metadata": {
        "colab": {
          "base_uri": "https://localhost:8080/"
        },
        "id": "EE-ybU64mLiT",
        "outputId": "28a9a9ea-d44e-4a84-b688-63ed5a69dd5f"
      },
      "execution_count": null,
      "outputs": [
        {
          "output_type": "stream",
          "name": "stdout",
          "text": [
            "0.8209764918625678\n"
          ]
        }
      ]
    },
    {
      "cell_type": "code",
      "source": [
        "print(classification_report(Y_testA, gnbpredA))"
      ],
      "metadata": {
        "colab": {
          "base_uri": "https://localhost:8080/"
        },
        "id": "Vqr7oUh3mONM",
        "outputId": "3a0cf902-31c1-407b-9e1a-c10127a6efb7"
      },
      "execution_count": null,
      "outputs": [
        {
          "output_type": "stream",
          "name": "stdout",
          "text": [
            "              precision    recall  f1-score   support\n",
            "\n",
            " Extremely A       1.00      0.86      0.93      1297\n",
            "      Mild A       0.52      0.34      0.41       172\n",
            "  Moderate A       0.69      0.83      0.75       426\n",
            "    Normal A       0.91      0.86      0.88       423\n",
            "    Severe A       0.61      0.85      0.71       447\n",
            "\n",
            "    accuracy                           0.82      2765\n",
            "   macro avg       0.74      0.75      0.74      2765\n",
            "weighted avg       0.84      0.82      0.82      2765\n",
            "\n"
          ]
        }
      ]
    },
    {
      "cell_type": "code",
      "source": [
        "X_trainA.shape"
      ],
      "metadata": {
        "colab": {
          "base_uri": "https://localhost:8080/"
        },
        "id": "9kjPwjf5mRLB",
        "outputId": "38dd2500-6c92-4682-8616-ae2a83046619"
      },
      "execution_count": null,
      "outputs": [
        {
          "output_type": "execute_result",
          "data": {
            "text/plain": [
              "(11060, 15)"
            ]
          },
          "metadata": {},
          "execution_count": 54
        }
      ]
    },
    {
      "cell_type": "code",
      "source": [
        "modeldataS = teen_data[['age','Q1A','Q6A','Q8A','Q11A','Q12A','Q14A','Q18A','Q22A','Q27A','Q29A','Q32A','Q33A','Q35A','Q39A',\n",
        "\"Q2A\",\"Q4A\",\"Q7A\",\"Q9A\",\"Q15A\",\"Q19A\",\"Q20A\",\"Q23A\",\"Q25A\",\"Q28A\",\"Q30A\",\"Q36A\",\"Q40A\",\"Q41A\",\"Q3A\",\"Q5A\",\"Q10A\",\"Q13A\",\"Q16A\",\"Q17A\",\"Q21A\",\"Q24A\",\"Q26A\",\"Q31A\",\"Q34A\",\"Q37A\",\"Q38A\",\"Q42A\",'Stress','Depression','Anxiety']]"
      ],
      "metadata": {
        "id": "K9CNdM0pmUEK"
      },
      "execution_count": null,
      "outputs": []
    },
    {
      "cell_type": "code",
      "source": [
        "X = modeldataS.iloc[:, :43].values\n",
        "Y = modeldataS.iloc[:, 43:].values\n",
        "\n",
        "x_train, x_test, y_train, y_test = train_test_split(X, Y,\n",
        "    test_size=0.2, random_state= 8)"
      ],
      "metadata": {
        "id": "y6Xb6vQ4mYWW"
      },
      "execution_count": null,
      "outputs": []
    },
    {
      "cell_type": "code",
      "source": [
        "X_trainS = x_train[:, :15]\n",
        "Y_trainS = y_train[:, -3]\n",
        "\n",
        "X_testS = x_test[:, :15]\n",
        "Y_testS = y_test[:, -3]\n",
        "\n",
        "print(X_trainS.shape)\n",
        "print(Y_trainS.shape)\n",
        "print(X_testS.shape)\n",
        "print(Y_testS.shape)"
      ],
      "metadata": {
        "colab": {
          "base_uri": "https://localhost:8080/"
        },
        "id": "QqbrH4uImcEI",
        "outputId": "5f1c4268-bebf-4dd4-f373-2e5773d7a887"
      },
      "execution_count": null,
      "outputs": [
        {
          "output_type": "stream",
          "name": "stdout",
          "text": [
            "(11060, 15)\n",
            "(11060,)\n",
            "(2765, 15)\n",
            "(2765,)\n"
          ]
        }
      ]
    },
    {
      "cell_type": "code",
      "source": [
        "#Implementing Logistic Regression for Stress\n",
        "\n",
        "modelS = LogisticRegression(random_state=0, multi_class='multinomial', solver='saga',max_iter=10000).fit(X_trainS, Y_trainS)"
      ],
      "metadata": {
        "colab": {
          "base_uri": "https://localhost:8080/"
        },
        "id": "gqbWsa_ymfT8",
        "outputId": "c3351c92-cd21-40d7-ee4f-ec07a50378b5"
      },
      "execution_count": null,
      "outputs": [
        {
          "output_type": "stream",
          "name": "stderr",
          "text": [
            "/usr/local/lib/python3.11/dist-packages/sklearn/linear_model/_logistic.py:1247: FutureWarning: 'multi_class' was deprecated in version 1.5 and will be removed in 1.7. From then on, it will always use 'multinomial'. Leave it to its default value to avoid this warning.\n",
            "  warnings.warn(\n"
          ]
        }
      ]
    },
    {
      "cell_type": "code",
      "source": [
        "lrpredS = modelS.predict(X_testS)"
      ],
      "metadata": {
        "id": "ta9YZf7CminX"
      },
      "execution_count": null,
      "outputs": []
    },
    {
      "cell_type": "code",
      "source": [
        "modelS.score(X_trainS, Y_trainS)"
      ],
      "metadata": {
        "colab": {
          "base_uri": "https://localhost:8080/"
        },
        "id": "VKftfLKAmlFK",
        "outputId": "1cf63f55-8b8a-48aa-d018-6458c1ad9650"
      },
      "execution_count": null,
      "outputs": [
        {
          "output_type": "execute_result",
          "data": {
            "text/plain": [
              "1.0"
            ]
          },
          "metadata": {},
          "execution_count": 60
        }
      ]
    },
    {
      "cell_type": "code",
      "source": [
        "lraccuracyS = np.mean(lrpredS == Y_testS)\n",
        "\n",
        "print(lraccuracyS)"
      ],
      "metadata": {
        "colab": {
          "base_uri": "https://localhost:8080/"
        },
        "id": "4Ckm06r7mpzf",
        "outputId": "fcf9425e-365f-4552-f4b8-c7fd17d82931"
      },
      "execution_count": null,
      "outputs": [
        {
          "output_type": "stream",
          "name": "stdout",
          "text": [
            "0.9996383363471971\n"
          ]
        }
      ]
    },
    {
      "cell_type": "code",
      "source": [
        "print(classification_report(Y_testS, lrpredS))"
      ],
      "metadata": {
        "colab": {
          "base_uri": "https://localhost:8080/"
        },
        "id": "Ok_Io803mq8L",
        "outputId": "ccce1c2f-5a19-42c6-e695-b3751a87c569"
      },
      "execution_count": null,
      "outputs": [
        {
          "output_type": "stream",
          "name": "stdout",
          "text": [
            "              precision    recall  f1-score   support\n",
            "\n",
            " Extremely S       1.00      1.00      1.00       508\n",
            "      Mild S       1.00      1.00      1.00       326\n",
            "  Moderate S       1.00      1.00      1.00       649\n",
            "    Normal S       1.00      1.00      1.00       597\n",
            "    Severe S       1.00      1.00      1.00       685\n",
            "\n",
            "    accuracy                           1.00      2765\n",
            "   macro avg       1.00      1.00      1.00      2765\n",
            "weighted avg       1.00      1.00      1.00      2765\n",
            "\n"
          ]
        }
      ]
    },
    {
      "cell_type": "code",
      "source": [
        "#Implementing Random Forest for Stress\n",
        "# Instantiate model with 1000 decision trees\n",
        "rf = RandomForestClassifier(n_estimators = 1000, random_state = 42)\n",
        "# Train the model on training data\n",
        "rf = rf.fit(X_trainS, Y_trainS)"
      ],
      "metadata": {
        "id": "ovmJNTZYmt8G"
      },
      "execution_count": null,
      "outputs": []
    },
    {
      "cell_type": "code",
      "source": [
        "# Use the forest's predict method on the test data\n",
        "rfpredS = rf.predict(X_testS)\n",
        "\n",
        "rfaccuracyS = np.mean(rfpredS == Y_testS)\n",
        "\n",
        "print(rfaccuracyS)"
      ],
      "metadata": {
        "colab": {
          "base_uri": "https://localhost:8080/"
        },
        "id": "DA7PRe6hmyIj",
        "outputId": "8b165d7f-6c6a-4634-a29b-081d35adf632"
      },
      "execution_count": null,
      "outputs": [
        {
          "output_type": "stream",
          "name": "stdout",
          "text": [
            "0.9009041591320073\n"
          ]
        }
      ]
    },
    {
      "cell_type": "code",
      "source": [
        "print(\"Accuracy score is\", metrics.accuracy_score(Y_testS, rfpredS ))"
      ],
      "metadata": {
        "colab": {
          "base_uri": "https://localhost:8080/"
        },
        "id": "_pHuvsT2m2Sd",
        "outputId": "3be87901-551f-4bca-ab59-fc4016d96818"
      },
      "execution_count": null,
      "outputs": [
        {
          "output_type": "stream",
          "name": "stdout",
          "text": [
            "Accuracy score is 0.9009041591320073\n"
          ]
        }
      ]
    },
    {
      "cell_type": "code",
      "source": [
        "print(classification_report(Y_testS, rfpredS))"
      ],
      "metadata": {
        "colab": {
          "base_uri": "https://localhost:8080/"
        },
        "id": "Yu7TZq4ym5KC",
        "outputId": "eacf788f-4bad-4cfb-8290-aee3a3ddeaba"
      },
      "execution_count": null,
      "outputs": [
        {
          "output_type": "stream",
          "name": "stdout",
          "text": [
            "              precision    recall  f1-score   support\n",
            "\n",
            " Extremely S       0.97      0.92      0.95       508\n",
            "      Mild S       0.86      0.65      0.74       326\n",
            "  Moderate S       0.85      0.92      0.88       649\n",
            "    Normal S       0.93      0.97      0.95       597\n",
            "    Severe S       0.89      0.93      0.91       685\n",
            "\n",
            "    accuracy                           0.90      2765\n",
            "   macro avg       0.90      0.88      0.89      2765\n",
            "weighted avg       0.90      0.90      0.90      2765\n",
            "\n"
          ]
        }
      ]
    },
    {
      "cell_type": "code",
      "source": [
        "#Implementing Decision Tree for Stress\n",
        "dt = tree.DecisionTreeClassifier()\n",
        "dt = dt.fit(X_trainS, Y_trainS)"
      ],
      "metadata": {
        "id": "Sy9BNRFpm8x0"
      },
      "execution_count": null,
      "outputs": []
    },
    {
      "cell_type": "code",
      "source": [
        "dtpredS = dt.predict(X_testS)\n",
        "\n",
        "dtaccuracyS = np.mean(dtpredS == Y_testS)\n",
        "\n",
        "print(dtaccuracyS)"
      ],
      "metadata": {
        "colab": {
          "base_uri": "https://localhost:8080/"
        },
        "id": "H-PyceOInAod",
        "outputId": "a06865a7-9d49-43bd-c134-c544e31f784c"
      },
      "execution_count": null,
      "outputs": [
        {
          "output_type": "stream",
          "name": "stdout",
          "text": [
            "0.7410488245931284\n"
          ]
        }
      ]
    },
    {
      "cell_type": "code",
      "source": [
        "print(classification_report(Y_testS, dtpredS))"
      ],
      "metadata": {
        "colab": {
          "base_uri": "https://localhost:8080/"
        },
        "id": "i7czhv3PnD4f",
        "outputId": "c698d9c8-7bb4-44d3-9e39-5de230d49f19"
      },
      "execution_count": null,
      "outputs": [
        {
          "output_type": "stream",
          "name": "stdout",
          "text": [
            "              precision    recall  f1-score   support\n",
            "\n",
            " Extremely S       0.84      0.84      0.84       508\n",
            "      Mild S       0.51      0.50      0.50       326\n",
            "  Moderate S       0.69      0.68      0.69       649\n",
            "    Normal S       0.85      0.88      0.86       597\n",
            "    Severe S       0.72      0.73      0.72       685\n",
            "\n",
            "    accuracy                           0.74      2765\n",
            "   macro avg       0.72      0.72      0.72      2765\n",
            "weighted avg       0.74      0.74      0.74      2765\n",
            "\n"
          ]
        }
      ]
    },
    {
      "cell_type": "code",
      "source": [
        "#Implementing SVM for Stress\n",
        "svm = SVC(kernel = 'linear')\n",
        "svm = svm.fit(X_trainS, Y_trainS)"
      ],
      "metadata": {
        "id": "j2R1dEuHnHGc"
      },
      "execution_count": null,
      "outputs": []
    },
    {
      "cell_type": "code",
      "source": [
        "svmpredS = svm.predict(X_testS)\n",
        "\n",
        "svmaccuracyS = np.mean(svmpredS == Y_testS)\n",
        "\n",
        "print(svmaccuracyS)"
      ],
      "metadata": {
        "colab": {
          "base_uri": "https://localhost:8080/"
        },
        "id": "e-HlTdVtnKoQ",
        "outputId": "c920a4f0-5857-4c66-e06f-781e2275bd37"
      },
      "execution_count": null,
      "outputs": [
        {
          "output_type": "stream",
          "name": "stdout",
          "text": [
            "1.0\n"
          ]
        }
      ]
    },
    {
      "cell_type": "code",
      "source": [
        "print(classification_report(Y_testS, svmpredS))"
      ],
      "metadata": {
        "colab": {
          "base_uri": "https://localhost:8080/"
        },
        "id": "GK6l1BYhnPe7",
        "outputId": "464b6459-7a86-4ca5-d519-c9ff7b8d7d1f"
      },
      "execution_count": null,
      "outputs": [
        {
          "output_type": "stream",
          "name": "stdout",
          "text": [
            "              precision    recall  f1-score   support\n",
            "\n",
            " Extremely S       1.00      1.00      1.00       508\n",
            "      Mild S       1.00      1.00      1.00       326\n",
            "  Moderate S       1.00      1.00      1.00       649\n",
            "    Normal S       1.00      1.00      1.00       597\n",
            "    Severe S       1.00      1.00      1.00       685\n",
            "\n",
            "    accuracy                           1.00      2765\n",
            "   macro avg       1.00      1.00      1.00      2765\n",
            "weighted avg       1.00      1.00      1.00      2765\n",
            "\n"
          ]
        }
      ]
    },
    {
      "cell_type": "code",
      "source": [
        "#Implementing Naive Bayes for Stress\n",
        "gnb = GaussianNB()\n",
        "gnb = gnb.fit(X_trainS, Y_trainS)"
      ],
      "metadata": {
        "id": "7M23NHQwnQkt"
      },
      "execution_count": null,
      "outputs": []
    },
    {
      "cell_type": "code",
      "source": [
        "gnbpredS = gnb.predict(X_testS)\n",
        "\n",
        "gnbaccuracyS = np.mean(gnbpredS == Y_testS)\n",
        "\n",
        "print(gnbaccuracyS)"
      ],
      "metadata": {
        "colab": {
          "base_uri": "https://localhost:8080/"
        },
        "id": "TlS-qsdQniU3",
        "outputId": "811e3b1a-ca1f-4583-a497-41a546f0252f"
      },
      "execution_count": null,
      "outputs": [
        {
          "output_type": "stream",
          "name": "stdout",
          "text": [
            "0.894755877034358\n"
          ]
        }
      ]
    },
    {
      "cell_type": "code",
      "source": [
        "X_trainS.shape"
      ],
      "metadata": {
        "colab": {
          "base_uri": "https://localhost:8080/"
        },
        "id": "Yy7VRfpdnmXc",
        "outputId": "eba9282f-b042-4995-a937-5a18d48d92d4"
      },
      "execution_count": null,
      "outputs": [
        {
          "output_type": "execute_result",
          "data": {
            "text/plain": [
              "(11060, 15)"
            ]
          },
          "metadata": {},
          "execution_count": 75
        }
      ]
    },
    {
      "cell_type": "code",
      "source": [
        "print(classification_report(Y_testS, gnbpredS))"
      ],
      "metadata": {
        "colab": {
          "base_uri": "https://localhost:8080/"
        },
        "id": "QV2GpKNGnrnH",
        "outputId": "90148557-d565-4741-9299-14890739fcdb"
      },
      "execution_count": null,
      "outputs": [
        {
          "output_type": "stream",
          "name": "stdout",
          "text": [
            "              precision    recall  f1-score   support\n",
            "\n",
            " Extremely S       0.96      0.86      0.91       508\n",
            "      Mild S       0.75      0.85      0.80       326\n",
            "  Moderate S       0.87      0.94      0.90       649\n",
            "    Normal S       1.00      0.88      0.93       597\n",
            "    Severe S       0.87      0.92      0.89       685\n",
            "\n",
            "    accuracy                           0.89      2765\n",
            "   macro avg       0.89      0.89      0.89      2765\n",
            "weighted avg       0.90      0.89      0.90      2765\n",
            "\n"
          ]
        }
      ]
    },
    {
      "cell_type": "code",
      "source": [
        "modeldataD = teen_data[['Q1A','Q6A','Q8A','Q11A','Q12A','Q14A','Q18A','Q22A','Q27A','Q29A','Q32A','Q33A','Q35A','Q39A',\n",
        "\"Q2A\",\"Q4A\",\"Q7A\",\"Q9A\",\"Q15A\",\"Q19A\",\"Q20A\",\"Q23A\",\"Q25A\",\"Q28A\",\"Q30A\",\"Q36A\",\"Q40A\",\"Q41A\",\"Q3A\",\"Q5A\",\"Q10A\",\"Q13A\",\"Q16A\",\"Q17A\",\"Q21A\",\"Q24A\",\"Q26A\",\"Q31A\",\"Q34A\",\"Q37A\",\"Q38A\",\"Q42A\",'age','Stress','Depression','Anxiety']]"
      ],
      "metadata": {
        "id": "Qac6P4sonwz7"
      },
      "execution_count": null,
      "outputs": []
    },
    {
      "cell_type": "code",
      "source": [
        "X = modeldataD.iloc[:, :43].values\n",
        "Y = modeldataD.iloc[:, 43:].values\n",
        "\n",
        "x_train, x_test, y_train, y_test = train_test_split(X, Y,\n",
        "    test_size=0.2, random_state= 8)"
      ],
      "metadata": {
        "id": "VaKWorbVn3uH"
      },
      "execution_count": null,
      "outputs": []
    },
    {
      "cell_type": "code",
      "source": [
        "X_trainD = x_train[:, 28:43]\n",
        "Y_trainD = y_train[:, -2]\n",
        "\n",
        "X_testD = x_test[:, 28:43]\n",
        "Y_testD = y_test[:, -2]\n",
        "\n",
        "print(X_trainD.shape)\n",
        "print(Y_trainD.shape)\n",
        "print(X_testD.shape)\n",
        "print(Y_testD.shape)"
      ],
      "metadata": {
        "colab": {
          "base_uri": "https://localhost:8080/"
        },
        "id": "reb8G3dvn76C",
        "outputId": "47fbec3a-b857-4efa-de6b-bc0b089fb49e"
      },
      "execution_count": null,
      "outputs": [
        {
          "output_type": "stream",
          "name": "stdout",
          "text": [
            "(11060, 15)\n",
            "(11060,)\n",
            "(2765, 15)\n",
            "(2765,)\n"
          ]
        }
      ]
    },
    {
      "cell_type": "code",
      "source": [
        "#Implementing Logistic Regression for Depression\n",
        "\n",
        "modelD = LogisticRegression(random_state=0, multi_class='multinomial', solver='saga',max_iter=10000).fit(X_trainD, Y_trainD)\n",
        "\n",
        "lrpredD = modelD.predict(X_testD)"
      ],
      "metadata": {
        "colab": {
          "base_uri": "https://localhost:8080/"
        },
        "id": "_Q8-lPX_oAFN",
        "outputId": "d1cda8b3-d730-43b6-a8cc-ff976fec1362"
      },
      "execution_count": null,
      "outputs": [
        {
          "output_type": "stream",
          "name": "stderr",
          "text": [
            "/usr/local/lib/python3.11/dist-packages/sklearn/linear_model/_logistic.py:1247: FutureWarning: 'multi_class' was deprecated in version 1.5 and will be removed in 1.7. From then on, it will always use 'multinomial'. Leave it to its default value to avoid this warning.\n",
            "  warnings.warn(\n"
          ]
        }
      ]
    },
    {
      "cell_type": "code",
      "source": [
        "modelD.score(X_trainD, Y_trainD)"
      ],
      "metadata": {
        "colab": {
          "base_uri": "https://localhost:8080/"
        },
        "id": "2T7yIQxToX1_",
        "outputId": "2b0acae1-6002-4e0f-dd66-32039b9eb981"
      },
      "execution_count": null,
      "outputs": [
        {
          "output_type": "execute_result",
          "data": {
            "text/plain": [
              "0.9954792043399638"
            ]
          },
          "metadata": {},
          "execution_count": 82
        }
      ]
    },
    {
      "cell_type": "code",
      "source": [
        "lraccuracyD = np.mean(lrpredD == Y_testD)\n",
        "\n",
        "print(lraccuracyD)"
      ],
      "metadata": {
        "colab": {
          "base_uri": "https://localhost:8080/"
        },
        "id": "366xehPVobOI",
        "outputId": "cb2010e9-cc93-47da-ef68-d446677770e0"
      },
      "execution_count": null,
      "outputs": [
        {
          "output_type": "stream",
          "name": "stdout",
          "text": [
            "0.9927667269439421\n"
          ]
        }
      ]
    },
    {
      "cell_type": "code",
      "source": [
        "print(classification_report(Y_testD, lrpredD))"
      ],
      "metadata": {
        "colab": {
          "base_uri": "https://localhost:8080/"
        },
        "id": "pERw8Mqhof2g",
        "outputId": "944732f0-9423-4715-d5ca-dc716ae13c66"
      },
      "execution_count": null,
      "outputs": [
        {
          "output_type": "stream",
          "name": "stdout",
          "text": [
            "              precision    recall  f1-score   support\n",
            "\n",
            " Extremely D       1.00      1.00      1.00      1680\n",
            "      Mild D       0.97      1.00      0.98       232\n",
            "  Moderate D       1.00      0.68      0.81        63\n",
            "    Normal D       1.00      1.00      1.00       461\n",
            "    Severe D       0.96      1.00      0.98       329\n",
            "\n",
            "    accuracy                           0.99      2765\n",
            "   macro avg       0.99      0.94      0.96      2765\n",
            "weighted avg       0.99      0.99      0.99      2765\n",
            "\n"
          ]
        }
      ]
    },
    {
      "cell_type": "code",
      "source": [
        "#Implementing Random Forest for Depression\n",
        "# Instantiate model with 1000 decision trees\n",
        "rf = RandomForestClassifier(n_estimators = 1000, random_state = 42)\n",
        "# Train the model on training data\n",
        "rf = rf.fit(X_trainD, Y_trainD)"
      ],
      "metadata": {
        "id": "nPFvlpilom13"
      },
      "execution_count": null,
      "outputs": []
    },
    {
      "cell_type": "code",
      "source": [
        "# Use the forest's predict method on the test data\n",
        "rfpredD = rf.predict(X_testD)\n",
        "\n",
        "rfaccuracyD = np.mean(rfpredD == Y_testD)\n",
        "\n",
        "print(rfaccuracyD)"
      ],
      "metadata": {
        "colab": {
          "base_uri": "https://localhost:8080/"
        },
        "id": "s3EOzR8FosH3",
        "outputId": "fa762354-e824-435a-8ce5-25b5e03fa5c8"
      },
      "execution_count": null,
      "outputs": [
        {
          "output_type": "stream",
          "name": "stdout",
          "text": [
            "0.9316455696202531\n"
          ]
        }
      ]
    },
    {
      "cell_type": "code",
      "source": [
        "print(\"Accuracy score is\", metrics.accuracy_score(Y_testD, rfpredD ))"
      ],
      "metadata": {
        "colab": {
          "base_uri": "https://localhost:8080/"
        },
        "id": "1zE4EaNSowMj",
        "outputId": "4c013298-9f6d-4df1-a766-cdebccc00bc2"
      },
      "execution_count": null,
      "outputs": [
        {
          "output_type": "stream",
          "name": "stdout",
          "text": [
            "Accuracy score is 0.9316455696202531\n"
          ]
        }
      ]
    },
    {
      "cell_type": "code",
      "source": [
        "print(classification_report(Y_testD, rfpredD))"
      ],
      "metadata": {
        "colab": {
          "base_uri": "https://localhost:8080/"
        },
        "id": "CTOOkWAupvuD",
        "outputId": "e1136240-0ce3-431a-ee3c-237070e115ec"
      },
      "execution_count": null,
      "outputs": [
        {
          "output_type": "stream",
          "name": "stdout",
          "text": [
            "              precision    recall  f1-score   support\n",
            "\n",
            " Extremely D       0.98      0.99      0.98      1680\n",
            "      Mild D       0.80      0.76      0.78       232\n",
            "  Moderate D       0.56      0.08      0.14        63\n",
            "    Normal D       0.93      0.98      0.95       461\n",
            "    Severe D       0.81      0.84      0.82       329\n",
            "\n",
            "    accuracy                           0.93      2765\n",
            "   macro avg       0.81      0.73      0.74      2765\n",
            "weighted avg       0.92      0.93      0.92      2765\n",
            "\n"
          ]
        }
      ]
    },
    {
      "cell_type": "code",
      "source": [
        "#Implementing Decision Tree for Depression\n",
        "dt = tree.DecisionTreeClassifier()\n",
        "dt = dt.fit(X_trainD, Y_trainD)"
      ],
      "metadata": {
        "id": "dMAr9dT8pzHj"
      },
      "execution_count": null,
      "outputs": []
    },
    {
      "cell_type": "code",
      "source": [
        "dtpredD = dt.predict(X_testD)\n",
        "\n",
        "dtaccuracyD = np.mean(dtpredD == Y_testD)\n",
        "\n",
        "print(dtaccuracyD)"
      ],
      "metadata": {
        "colab": {
          "base_uri": "https://localhost:8080/"
        },
        "id": "ZOpN8jxnp2mZ",
        "outputId": "9c002b66-95c1-495e-9e91-8536070a0b71"
      },
      "execution_count": null,
      "outputs": [
        {
          "output_type": "stream",
          "name": "stdout",
          "text": [
            "0.854249547920434\n"
          ]
        }
      ]
    },
    {
      "cell_type": "code",
      "source": [
        "print(classification_report(Y_testD, dtpredD))"
      ],
      "metadata": {
        "colab": {
          "base_uri": "https://localhost:8080/"
        },
        "id": "c6LX7V8Gp44g",
        "outputId": "8a45c569-1913-4355-e1ab-f357fd9322d0"
      },
      "execution_count": null,
      "outputs": [
        {
          "output_type": "stream",
          "name": "stdout",
          "text": [
            "              precision    recall  f1-score   support\n",
            "\n",
            " Extremely D       0.96      0.96      0.96      1680\n",
            "      Mild D       0.54      0.55      0.55       232\n",
            "  Moderate D       0.19      0.19      0.19        63\n",
            "    Normal D       0.89      0.89      0.89       461\n",
            "    Severe D       0.63      0.62      0.62       329\n",
            "\n",
            "    accuracy                           0.85      2765\n",
            "   macro avg       0.64      0.64      0.64      2765\n",
            "weighted avg       0.85      0.85      0.85      2765\n",
            "\n"
          ]
        }
      ]
    },
    {
      "cell_type": "code",
      "source": [
        "#Implementing the SVM model for Depression\n",
        "svm = SVC(kernel = 'linear')\n",
        "svm = svm.fit(X_trainD, Y_trainD)"
      ],
      "metadata": {
        "id": "Yfpe_PuXp8B0"
      },
      "execution_count": null,
      "outputs": []
    },
    {
      "cell_type": "code",
      "source": [
        "svmpredD = svm.predict(X_testD)\n",
        "\n",
        "svmaccuracyD = np.mean(svmpredD == Y_testD)\n",
        "\n",
        "print(svmaccuracyD)"
      ],
      "metadata": {
        "colab": {
          "base_uri": "https://localhost:8080/"
        },
        "id": "h-UAN0x4p_lr",
        "outputId": "47de7623-1ccf-4079-ebba-158f4a97a13e"
      },
      "execution_count": null,
      "outputs": [
        {
          "output_type": "stream",
          "name": "stdout",
          "text": [
            "1.0\n"
          ]
        }
      ]
    },
    {
      "cell_type": "code",
      "source": [
        "print(classification_report(Y_testD, svmpredD))"
      ],
      "metadata": {
        "colab": {
          "base_uri": "https://localhost:8080/"
        },
        "id": "ztafBNS4qBrf",
        "outputId": "71b6d75e-9699-4d23-8e58-b12e379cdb46"
      },
      "execution_count": null,
      "outputs": [
        {
          "output_type": "stream",
          "name": "stdout",
          "text": [
            "              precision    recall  f1-score   support\n",
            "\n",
            " Extremely D       1.00      1.00      1.00      1680\n",
            "      Mild D       1.00      1.00      1.00       232\n",
            "  Moderate D       1.00      1.00      1.00        63\n",
            "    Normal D       1.00      1.00      1.00       461\n",
            "    Severe D       1.00      1.00      1.00       329\n",
            "\n",
            "    accuracy                           1.00      2765\n",
            "   macro avg       1.00      1.00      1.00      2765\n",
            "weighted avg       1.00      1.00      1.00      2765\n",
            "\n"
          ]
        }
      ]
    },
    {
      "cell_type": "code",
      "source": [
        "print(classification_report(Y_testD, svmpredD))"
      ],
      "metadata": {
        "colab": {
          "base_uri": "https://localhost:8080/"
        },
        "id": "SJAY_s1IqE7l",
        "outputId": "8192bc2e-8f63-402b-f695-ae1531a7c1a7"
      },
      "execution_count": null,
      "outputs": [
        {
          "output_type": "stream",
          "name": "stdout",
          "text": [
            "              precision    recall  f1-score   support\n",
            "\n",
            " Extremely D       1.00      1.00      1.00      1680\n",
            "      Mild D       1.00      1.00      1.00       232\n",
            "  Moderate D       1.00      1.00      1.00        63\n",
            "    Normal D       1.00      1.00      1.00       461\n",
            "    Severe D       1.00      1.00      1.00       329\n",
            "\n",
            "    accuracy                           1.00      2765\n",
            "   macro avg       1.00      1.00      1.00      2765\n",
            "weighted avg       1.00      1.00      1.00      2765\n",
            "\n"
          ]
        }
      ]
    },
    {
      "cell_type": "code",
      "source": [
        "#Implementing Naive Bayes for Depression\n",
        "gnb = GaussianNB()\n",
        "gnb = gnb.fit(X_trainD, Y_trainD)"
      ],
      "metadata": {
        "id": "kCHVrfg8qJDI"
      },
      "execution_count": null,
      "outputs": []
    },
    {
      "cell_type": "code",
      "source": [
        "gnbpredD = gnb.predict(X_testD)\n",
        "\n",
        "gnbaccuracyD = np.mean(gnbpredD == Y_testD)\n",
        "\n",
        "print(gnbaccuracyD)"
      ],
      "metadata": {
        "colab": {
          "base_uri": "https://localhost:8080/"
        },
        "id": "vUSuYJSiqMt_",
        "outputId": "a6edc096-f414-4434-ec82-4eeb6d61a407"
      },
      "execution_count": null,
      "outputs": [
        {
          "output_type": "stream",
          "name": "stdout",
          "text": [
            "0.854249547920434\n"
          ]
        }
      ]
    },
    {
      "cell_type": "code",
      "source": [
        "print(classification_report(Y_testD, gnbpredD))"
      ],
      "metadata": {
        "colab": {
          "base_uri": "https://localhost:8080/"
        },
        "id": "Lrp0NjjrqPaH",
        "outputId": "c8fc639e-49cc-4987-fd30-6af5420c21c4"
      },
      "execution_count": null,
      "outputs": [
        {
          "output_type": "stream",
          "name": "stdout",
          "text": [
            "              precision    recall  f1-score   support\n",
            "\n",
            " Extremely D       1.00      0.86      0.92      1680\n",
            "      Mild D       0.67      0.87      0.76       232\n",
            "  Moderate D       0.00      0.00      0.00        63\n",
            "    Normal D       1.00      0.87      0.93       461\n",
            "    Severe D       0.52      0.98      0.68       329\n",
            "\n",
            "    accuracy                           0.85      2765\n",
            "   macro avg       0.64      0.71      0.66      2765\n",
            "weighted avg       0.89      0.85      0.86      2765\n",
            "\n"
          ]
        }
      ]
    },
    {
      "cell_type": "code",
      "source": [
        "import matplotlib.pyplot as plt\n",
        "import seaborn as sns\n",
        "\n",
        "# Visualizing the distribution of Stress, Anxiety, and Depression\n",
        "plt.figure(figsize=(15, 5))\n",
        "\n",
        "# Stress Distribution\n",
        "plt.subplot(1, 3, 1)\n",
        "sns.countplot(data=data, x='Stress', palette='viridis')\n",
        "plt.title('Distribution of Stress Levels')\n",
        "plt.xlabel('Stress Levels')\n",
        "plt.ylabel('Count')\n",
        "\n",
        "# Anxiety Distribution\n",
        "plt.subplot(1, 3, 2)\n",
        "sns.countplot(data=data, x='Anxiety', palette='viridis')\n",
        "plt.title('Distribution of Anxiety Levels')\n",
        "plt.xlabel('Anxiety Levels')\n",
        "plt.ylabel('Count')\n",
        "\n",
        "# Depression Distribution\n",
        "plt.subplot(1, 3, 3)\n",
        "sns.countplot(data=data, x='Depression', palette='viridis')\n",
        "plt.title('Distribution of Depression Levels')\n",
        "plt.xlabel('Depression Levels')\n",
        "plt.ylabel('Count')\n",
        "\n",
        "plt.tight_layout()\n",
        "plt.show()"
      ],
      "metadata": {
        "colab": {
          "base_uri": "https://localhost:8080/",
          "height": 627
        },
        "id": "rtoxJVaGtBDD",
        "outputId": "2ce42bcc-3c3f-4fd8-aed9-2c04581a709f"
      },
      "execution_count": null,
      "outputs": [
        {
          "output_type": "stream",
          "name": "stderr",
          "text": [
            "<ipython-input-100-da6ab25a5c17>:9: FutureWarning: \n",
            "\n",
            "Passing `palette` without assigning `hue` is deprecated and will be removed in v0.14.0. Assign the `x` variable to `hue` and set `legend=False` for the same effect.\n",
            "\n",
            "  sns.countplot(data=data, x='Stress', palette='viridis')\n",
            "<ipython-input-100-da6ab25a5c17>:16: FutureWarning: \n",
            "\n",
            "Passing `palette` without assigning `hue` is deprecated and will be removed in v0.14.0. Assign the `x` variable to `hue` and set `legend=False` for the same effect.\n",
            "\n",
            "  sns.countplot(data=data, x='Anxiety', palette='viridis')\n",
            "<ipython-input-100-da6ab25a5c17>:23: FutureWarning: \n",
            "\n",
            "Passing `palette` without assigning `hue` is deprecated and will be removed in v0.14.0. Assign the `x` variable to `hue` and set `legend=False` for the same effect.\n",
            "\n",
            "  sns.countplot(data=data, x='Depression', palette='viridis')\n"
          ]
        },
        {
          "output_type": "display_data",
          "data": {
            "text/plain": [
              "<Figure size 1500x500 with 3 Axes>"
            ],
            "image/png": "[encoded data removed]"
          },
          "metadata": {}
        }
      ]
    },
    {
      "cell_type": "code",
      "source": [
        "from sklearn.preprocessing import LabelEncoder\n",
        "from sklearn.metrics import classification_report\n",
        "import numpy as np\n",
        "from xgboost import XGBClassifier\n",
        "\n",
        "# Encode labels for Anxiety\n",
        "label_encoderA = LabelEncoder()\n",
        "Y_trainA_encoded = label_encoderA.fit_transform(Y_trainA)  # Fit and transform training labels\n",
        "Y_testA_encoded = label_encoderA.transform(Y_testA)        # Only transform test labels\n",
        "\n",
        "# Implementing XGBoost for Anxiety\n",
        "xgb_modelA = XGBClassifier(use_label_encoder=False, eval_metric='mlogloss')\n",
        "xgb_modelA.fit(X_trainA, Y_trainA_encoded)\n",
        "\n",
        "xgb_predA_encoded = xgb_modelA.predict(X_testA)\n",
        "xgb_predA = label_encoderA.inverse_transform(xgb_predA_encoded)  # Decode predictions\n",
        "xgbaccuracyA = np.mean(xgb_predA == Y_testA)\n",
        "\n",
        "print(\"XGBoost Accuracy for Anxiety:\", xgbaccuracyA)\n",
        "print(classification_report(Y_testA, xgb_predA))\n",
        "\n",
        "# Repeat the same process for Stress\n",
        "label_encoderS = LabelEncoder()\n",
        "Y_trainS_encoded = label_encoderS.fit_transform(Y_trainS)\n",
        "Y_testS_encoded = label_encoderS.transform(Y_testS)\n",
        "\n",
        "xgb_modelS = XGBClassifier(use_label_encoder=False, eval_metric='mlogloss')\n",
        "xgb_modelS.fit(X_trainS, Y_trainS_encoded)\n",
        "\n",
        "xgb_predS_encoded = xgb_modelS.predict(X_testS)\n",
        "xgb_predS = label_encoderS.inverse_transform(xgb_predS_encoded)\n",
        "xgbaccuracyS = np.mean(xgb_predS == Y_testS)\n",
        "\n",
        "print(\"XGBoost Accuracy for Stress:\", xgbaccuracyS)\n",
        "print(classification_report(Y_testS, xgb_predS))\n",
        "\n",
        "# Repeat the same process for Depression\n",
        "label_encoderD = LabelEncoder()\n",
        "Y_trainD_encoded = label_encoderD.fit_transform(Y_trainD)\n",
        "Y_testD_encoded = label_encoderD.transform(Y_testD)\n",
        "\n",
        "xgb_modelD = XGBClassifier(use_label_encoder=False, eval_metric='mlogloss')\n",
        "xgb_modelD.fit(X_trainD, Y_trainD_encoded)\n",
        "\n",
        "xgb_predD_encoded = xgb_modelD.predict(X_testD)\n",
        "xgb_predD = label_encoderD.inverse_transform(xgb_predD_encoded)\n",
        "xgbaccuracyD = np.mean(xgb_predD == Y_testD)\n",
        "\n",
        "print(\"XGBoost Accuracy for Depression:\", xgbaccuracyD)\n",
        "print(classification_report(Y_testD, xgb_predD))"
      ],
      "metadata": {
        "colab": {
          "base_uri": "https://localhost:8080/"
        },
        "id": "bq_6ZXV0tJ-2",
        "outputId": "b79aa070-1f92-486a-d596-7809b74f158f"
      },
      "execution_count": null,
      "outputs": [
        {
          "output_type": "stream",
          "name": "stderr",
          "text": [
            "/usr/local/lib/python3.11/dist-packages/xgboost/core.py:158: UserWarning: [07:55:51] WARNING: /workspace/src/learner.cc:740: \n",
            "Parameters: { \"use_label_encoder\" } are not used.\n",
            "\n",
            "  warnings.warn(smsg, UserWarning)\n"
          ]
        },
        {
          "output_type": "stream",
          "name": "stdout",
          "text": [
            "XGBoost Accuracy for Anxiety: 0.9063291139240506\n",
            "              precision    recall  f1-score   support\n",
            "\n",
            " Extremely A       0.98      0.97      0.97      1297\n",
            "      Mild A       0.70      0.53      0.61       172\n",
            "  Moderate A       0.80      0.87      0.84       426\n",
            "    Normal A       0.92      0.96      0.94       423\n",
            "    Severe A       0.85      0.85      0.85       447\n",
            "\n",
            "    accuracy                           0.91      2765\n",
            "   macro avg       0.85      0.84      0.84      2765\n",
            "weighted avg       0.90      0.91      0.90      2765\n",
            "\n"
          ]
        },
        {
          "output_type": "stream",
          "name": "stderr",
          "text": [
            "/usr/local/lib/python3.11/dist-packages/xgboost/core.py:158: UserWarning: [07:55:54] WARNING: /workspace/src/learner.cc:740: \n",
            "Parameters: { \"use_label_encoder\" } are not used.\n",
            "\n",
            "  warnings.warn(smsg, UserWarning)\n"
          ]
        },
        {
          "output_type": "stream",
          "name": "stdout",
          "text": [
            "XGBoost Accuracy for Stress: 0.9236889692585896\n",
            "              precision    recall  f1-score   support\n",
            "\n",
            " Extremely S       0.96      0.96      0.96       508\n",
            "      Mild S       0.84      0.78      0.81       326\n",
            "  Moderate S       0.89      0.92      0.91       649\n",
            "    Normal S       0.95      0.97      0.96       597\n",
            "    Severe S       0.94      0.93      0.93       685\n",
            "\n",
            "    accuracy                           0.92      2765\n",
            "   macro avg       0.92      0.91      0.91      2765\n",
            "weighted avg       0.92      0.92      0.92      2765\n",
            "\n"
          ]
        },
        {
          "output_type": "stream",
          "name": "stderr",
          "text": [
            "/usr/local/lib/python3.11/dist-packages/xgboost/core.py:158: UserWarning: [07:55:55] WARNING: /workspace/src/learner.cc:740: \n",
            "Parameters: { \"use_label_encoder\" } are not used.\n",
            "\n",
            "  warnings.warn(smsg, UserWarning)\n"
          ]
        },
        {
          "output_type": "stream",
          "name": "stdout",
          "text": [
            "XGBoost Accuracy for Depression: 0.9399638336347197\n",
            "              precision    recall  f1-score   support\n",
            "\n",
            " Extremely D       0.99      0.99      0.99      1680\n",
            "      Mild D       0.81      0.79      0.80       232\n",
            "  Moderate D       0.55      0.17      0.27        63\n",
            "    Normal D       0.93      0.98      0.95       461\n",
            "    Severe D       0.84      0.88      0.86       329\n",
            "\n",
            "    accuracy                           0.94      2765\n",
            "   macro avg       0.82      0.76      0.77      2765\n",
            "weighted avg       0.93      0.94      0.93      2765\n",
            "\n"
          ]
        }
      ]
    },
    {
      "cell_type": "code",
      "source": [
        "# Model performance comparison\n",
        "model_names = ['Logistic Regression', 'Random Forest', 'Decision Tree', 'SVM', 'Naive Bayes', 'XGBoost']\n",
        "accuracies = [lraccuracyA, rfaccuracyA, dtaccuracyA, svmaccuracyA, gnbaccuracyA, xgbaccuracyA]  # Add XGBoost accuracy here\n",
        "\n",
        "plt.figure(figsize=(10, 6))\n",
        "sns.barplot(x=model_names, y=accuracies, palette='viridis')\n",
        "plt.title('Model Performance Comparison')\n",
        "plt.xlabel('Models')\n",
        "plt.ylabel('Accuracy')\n",
        "plt.xticks(rotation=45)\n",
        "plt.ylim(0, 1)\n",
        "plt.show()"
      ],
      "metadata": {
        "colab": {
          "base_uri": "https://localhost:8080/",
          "height": 759
        },
        "id": "zdWemdvetD7Y",
        "outputId": "23690fb0-2c60-42b6-c97b-245aec030cd6"
      },
      "execution_count": null,
      "outputs": [
        {
          "output_type": "stream",
          "name": "stderr",
          "text": [
            "<ipython-input-103-b9b7c2d2178d>:6: FutureWarning: \n",
            "\n",
            "Passing `palette` without assigning `hue` is deprecated and will be removed in v0.14.0. Assign the `x` variable to `hue` and set `legend=False` for the same effect.\n",
            "\n",
            "  sns.barplot(x=model_names, y=accuracies, palette='viridis')\n"
          ]
        },
        {
          "output_type": "display_data",
          "data": {
            "text/plain": [
              "<Figure size 1000x600 with 1 Axes>"
            ],
            "image/png": "[encoded data removed]"
          },
          "metadata": {}
        }
      ]
    },
    {
      "cell_type": "code",
      "source": [
        "import pandas as pd\n",
        "from sklearn.metrics import classification_report\n",
        "\n",
        "# Function to convert classification report to DataFrame\n",
        "def report_to_dataframe(report):\n",
        "    report_df = pd.DataFrame(report).transpose()\n",
        "    return report_df\n",
        "\n",
        "# Get classification reports for each model\n",
        "reportA_lr = classification_report(Y_testA, lrpredA, output_dict=True)\n",
        "reportA_rf = classification_report(Y_testA, rfpredA, output_dict=True)\n",
        "reportA_dt = classification_report(Y_testA, dtpredA, output_dict=True)\n",
        "reportA_svm = classification_report(Y_testA, svmpredA, output_dict=True)\n",
        "reportA_gnb = classification_report(Y_testA, gnbpredA, output_dict=True)\n",
        "reportA_xgb = classification_report(Y_testA, xgb_predA, output_dict=True)\n",
        "\n",
        "reportS_lr = classification_report(Y_testS, lrpredS, output_dict=True)\n",
        "reportS_rf = classification_report(Y_testS, rfpredS, output_dict=True)\n",
        "reportS_dt = classification_report(Y_testS, dtpredS, output_dict=True)\n",
        "reportS_svm = classification_report(Y_testS, svmpredS, output_dict=True)\n",
        "reportS_gnb = classification_report(Y_testS, gnbpredS, output_dict=True)\n",
        "reportS_xgb = classification_report(Y_testS, xgb_predS, output_dict=True)\n",
        "\n",
        "reportD_lr = classification_report(Y_testD, lrpredD, output_dict=True)\n",
        "reportD_rf = classification_report(Y_testD, rfpredD, output_dict=True)\n",
        "reportD_dt = classification_report(Y_testD, dtpredD, output_dict=True)\n",
        "reportD_svm = classification_report(Y_testD, svmpredD, output_dict=True)\n",
        "reportD_gnb = classification_report(Y_testD, gnbpredD, output_dict=True)\n",
        "reportD_xgb = classification_report(Y_testD, xgb_predD, output_dict=True)\n",
        "\n",
        "# Create DataFrames for each model's report\n",
        "dfA_lr = report_to_dataframe(reportA_lr)\n",
        "dfA_rf = report_to_dataframe(reportA_rf)\n",
        "dfA_dt = report_to_dataframe(reportA_dt)\n",
        "dfA_svm = report_to_dataframe(reportA_svm)\n",
        "dfA_gnb = report_to_dataframe(reportA_gnb)\n",
        "dfA_xgb = report_to_dataframe(reportA_xgb)\n",
        "\n",
        "dfS_lr = report_to_dataframe(reportS_lr)\n",
        "dfS_rf = report_to_dataframe(reportS_rf)\n",
        "dfS_dt = report_to_dataframe(reportS_dt)\n",
        "dfS_svm = report_to_dataframe(reportS_svm)\n",
        "dfS_gnb = report_to_dataframe(reportS_gnb)\n",
        "dfS_xgb = report_to_dataframe(reportS_xgb)\n",
        "\n",
        "dfD_lr = report_to_dataframe(reportD_lr)\n",
        "dfD_rf = report_to_dataframe(reportD_rf)\n",
        "dfD_dt = report_to_dataframe(reportD_dt)\n",
        "dfD_svm = report_to_dataframe(reportD_svm)\n",
        "dfD_gnb = report_to_dataframe(reportD_gnb)\n",
        "dfD_xgb = report_to_dataframe(reportD_xgb)\n",
        "\n",
        "# Combine all reports into a single DataFrame\n",
        "summary_df = pd.DataFrame({\n",
        "    'Model': ['Logistic Regression', 'Random Forest', 'Decision Tree', 'SVM', 'Naive Bayes', 'XGBoost'],\n",
        "    'Anxiety Precision': [dfA_lr.loc['Extremely A', 'precision'], dfA_rf.loc['Extremely A', 'precision'], dfA_dt.loc['Extremely A', 'precision'], dfA_svm.loc['Extremely A', 'precision'], dfA_gnb.loc['Extremely A', 'precision'], dfA_xgb.loc['Extremely A', 'precision']],\n",
        "    'Anxiety Recall': [dfA_lr.loc['Extremely A', 'recall'], dfA_rf.loc['Extremely A', 'recall'], dfA_dt.loc['Extremely A', 'recall'], dfA_svm.loc['Extremely A', 'recall'], dfA_gnb.loc['Extremely A', 'recall'], dfA_xgb.loc['Extremely A', 'recall']],\n",
        "    'Anxiety F1-Score': [dfA_lr.loc['Extremely A', 'f1-score'], dfA_rf.loc['Extremely A', 'f1-score'], dfA_dt.loc['Extremely A', 'f1-score'], dfA_svm.loc['Extremely A', 'f1-score'], dfA_gnb.loc['Extremely A', 'f1-score'], dfA_xgb.loc['Extremely A', 'f1-score']],\n",
        "\n",
        "    'Stress Precision': [dfS_lr.loc['Extremely S', 'precision'], dfS_rf.loc['Extremely S', 'precision'], dfS_dt.loc['Extremely S', 'precision'], dfS_svm.loc['Extremely S', 'precision'], dfS_gnb.loc['Extremely S', 'precision'], dfS_xgb.loc['Extremely S', 'precision']],\n",
        "    'Stress Recall': [dfS_lr.loc['Extremely S', 'recall'], dfS_rf.loc['Extremely S', 'recall'], dfS_dt.loc['Extremely S', 'recall'], dfS_svm.loc['Extremely S', 'recall'], dfS_gnb.loc['Extremely S', 'recall'], dfS_xgb.loc['Extremely S', 'recall']],\n",
        "    'Stress F1-Score': [dfS_lr.loc['Extremely S', 'f1-score'], dfS_rf.loc['Extremely S', 'f1-score'], dfS_dt.loc['Extremely S', 'f1-score'], dfS_svm.loc['Extremely S', 'f1-score'], dfS_gnb.loc['Extremely S', 'f1-score'], dfS_xgb.loc['Extremely S', 'f1-score']],\n",
        "\n",
        "    'Depression Precision': [dfD_lr.loc['Extremely D', 'precision'], dfD_rf.loc['Extremely D', 'precision'], dfD_dt.loc['Extremely D', 'precision'], dfD_svm.loc['Extremely D', 'precision'], dfD_gnb.loc['Extremely D', 'precision'], dfD_xgb.loc['Extremely D', 'precision']],\n",
        "    'Depression Recall': [dfD_lr.loc['Extremely D', 'recall'], dfD_rf.loc['Extremely D', 'recall'], dfD_dt.loc['Extremely D', 'recall'], dfD_svm.loc['Extremely D', 'recall'], dfD_gnb.loc['Extremely D', 'recall'], dfD_xgb.loc['Extremely D', 'recall']],\n",
        "    'Depression F1-Score': [dfD_lr.loc['Extremely D', 'f1-score'], dfD_rf.loc['Extremely D', 'f1-score'], dfD_dt.loc['Extremely D', 'f1-score'], dfD_svm.loc['Extremely D', 'f1-score'], dfD_gnb.loc['Extremely D', 'f1-score'], dfD_xgb.loc['Extremely D', 'f1-score']],\n",
        "})\n",
        "\n",
        "# Display the summary DataFrame\n",
        "print(summary_df)"
      ],
      "metadata": {
        "colab": {
          "base_uri": "https://localhost:8080/"
        },
        "id": "UKjI9xQbuSvV",
        "outputId": "154fe88c-6544-48d3-8794-cd7be62b7c44"
      },
      "execution_count": null,
      "outputs": [
        {
          "output_type": "stream",
          "name": "stdout",
          "text": [
            "                 Model  Anxiety Precision  Anxiety Recall  Anxiety F1-Score  \\\n",
            "0  Logistic Regression           1.000000        1.000000          1.000000   \n",
            "1        Random Forest           0.963415        0.974557          0.968954   \n",
            "2        Decision Tree           0.919255        0.912876          0.916054   \n",
            "3                  SVM           1.000000        1.000000          1.000000   \n",
            "4          Naive Bayes           0.998216        0.862760          0.925558   \n",
            "5              XGBoost           0.979735        0.969160          0.974419   \n",
            "\n",
            "   Stress Precision  Stress Recall  Stress F1-Score  Depression Precision  \\\n",
            "0          1.000000       1.000000         1.000000              1.000000   \n",
            "1          0.972917       0.919291         0.945344              0.977140   \n",
            "2          0.841584       0.836614         0.839092              0.958259   \n",
            "3          1.000000       1.000000         1.000000              1.000000   \n",
            "4          0.964680       0.860236         0.909469              1.000000   \n",
            "5          0.964356       0.958661         0.961500              0.985198   \n",
            "\n",
            "   Depression Recall  Depression F1-Score  \n",
            "0           1.000000             1.000000  \n",
            "1           0.992262             0.984643  \n",
            "2           0.956548             0.957402  \n",
            "3           1.000000             1.000000  \n",
            "4           0.857143             0.923077  \n",
            "5           0.990476             0.987830  \n"
          ]
        }
      ]
    },
    {
      "cell_type": "code",
      "source": [
        "import pandas as pd\n",
        "from sklearn.metrics import classification_report\n",
        "\n",
        "# Function to convert classification report to DataFrame\n",
        "def report_to_dataframe(report):\n",
        "    report_df = pd.DataFrame(report).transpose()\n",
        "    return report_df\n",
        "\n",
        "# Get classification reports for each model\n",
        "reportA_lr = classification_report(Y_testA, lrpredA, output_dict=True)\n",
        "reportA_rf = classification_report(Y_testA, rfpredA, output_dict=True)\n",
        "reportA_dt = classification_report(Y_testA, dtpredA, output_dict=True)\n",
        "reportA_svm = classification_report(Y_testA, svmpredA, output_dict=True)\n",
        "reportA_gnb = classification_report(Y_testA, gnbpredA, output_dict=True)\n",
        "reportA_xgb = classification_report(Y_testA, xgb_predA, output_dict=True)\n",
        "\n",
        "reportS_lr = classification_report(Y_testS, lrpredS, output_dict=True)\n",
        "reportS_rf = classification_report(Y_testS, rfpredS, output_dict=True)\n",
        "reportS_dt = classification_report(Y_testS, dtpredS, output_dict=True)\n",
        "reportS_svm = classification_report(Y_testS, svmpredS, output_dict=True)\n",
        "reportS_gnb = classification_report(Y_testS, gnbpredS, output_dict=True)\n",
        "reportS_xgb = classification_report(Y_testS, xgb_predS, output_dict=True)\n",
        "\n",
        "reportD_lr = classification_report(Y_testD, lrpredD, output_dict=True)\n",
        "reportD_rf = classification_report(Y_testD, rfpredD, output_dict=True)\n",
        "reportD_dt = classification_report(Y_testD, dtpredD, output_dict=True)\n",
        "reportD_svm = classification_report(Y_testD, svmpredD, output_dict=True)\n",
        "reportD_gnb = classification_report(Y_testD, gnbpredD, output_dict=True)\n",
        "reportD_xgb = classification_report(Y_testD, xgb_predD, output_dict=True)\n",
        "\n",
        "# Create a DataFrame for precision scores only\n",
        "precision_summary_df = pd.DataFrame({\n",
        "    'Model': ['Logistic Regression', 'Random Forest', 'Decision Tree', 'SVM', 'Naive Bayes', 'XGBoost'],\n",
        "    'Anxiety Precision': [\n",
        "        reportA_lr['Extremely A']['precision'],\n",
        "        reportA_rf['Extremely A']['precision'],\n",
        "        reportA_dt['Extremely A']['precision'],\n",
        "        reportA_svm['Extremely A']['precision'],\n",
        "        reportA_gnb['Extremely A']['precision'],\n",
        "        reportA_xgb['Extremely A']['precision']\n",
        "    ],\n",
        "    'Stress Precision': [\n",
        "        reportS_lr['Extremely S']['precision'],\n",
        "        reportS_rf['Extremely S']['precision'],\n",
        "        reportS_dt['Extremely S']['precision'],\n",
        "        reportS_svm['Extremely S']['precision'],\n",
        "        reportS_gnb['Extremely S']['precision'],\n",
        "        reportS_xgb['Extremely S']['precision']\n",
        "    ],\n",
        "    'Depression Precision': [\n",
        "        reportD_lr['Extremely D']['precision'],\n",
        "        reportD_rf['Extremely D']['precision'],\n",
        "        reportD_dt['Extremely D']['precision'],\n",
        "        reportD_svm['Extremely D']['precision'],\n",
        "        reportD_gnb['Extremely D']['precision'],\n",
        "        reportD_xgb['Extremely D']['precision']\n",
        "    ]\n",
        "})\n",
        "\n",
        "# Save the precision summary DataFrame to an Excel file\n",
        "precision_summary_df.to_excel('model_precision_summary.xlsx', index=False)\n",
        "\n",
        "# Display the DataFrame\n",
        "print(precision_summary_df)"
      ],
      "metadata": {
        "colab": {
          "base_uri": "https://localhost:8080/"
        },
        "id": "fviC4bJlvVza",
        "outputId": "8fe8d0aa-145f-4b36-986d-0df8ad735d8d"
      },
      "execution_count": null,
      "outputs": [
        {
          "output_type": "stream",
          "name": "stdout",
          "text": [
            "                 Model  Anxiety Precision  Stress Precision  \\\n",
            "0  Logistic Regression           1.000000          1.000000   \n",
            "1        Random Forest           0.963415          0.972917   \n",
            "2        Decision Tree           0.919255          0.841584   \n",
            "3                  SVM           1.000000          1.000000   \n",
            "4          Naive Bayes           0.998216          0.964680   \n",
            "5              XGBoost           0.979735          0.964356   \n",
            "\n",
            "   Depression Precision  \n",
            "0              1.000000  \n",
            "1              0.977140  \n",
            "2              0.958259  \n",
            "3              1.000000  \n",
            "4              1.000000  \n",
            "5              0.985198  \n"
          ]
        }
      ]
    },
    {
      "cell_type": "code",
      "source": [
        "from google.colab import files\n",
        "files.download('model_precision_summary.xlsx')"
      ],
      "metadata": {
        "colab": {
          "base_uri": "https://localhost:8080/",
          "height": 17
        },
        "id": "D0yUvYj8vYsz",
        "outputId": "2a836a9b-1558-486c-ee98-0b8f13ac447c"
      },
      "execution_count": null,
      "outputs": [
        {
          "output_type": "display_data",
          "data": {
            "text/plain": [
              "<IPython.core.display.Javascript object>"
            ],
            "application/javascript": [
              "\n",
              "    async function download(id, filename, size) {\n",
              "      if (!google.colab.kernel.accessAllowed) {\n",
              "        return;\n",
              "      }\n",
              "      const div = document.createElement('div');\n",
              "      const label = document.createElement('label');\n",
              "      label.textContent = `Downloading \"${filename}\": `;\n",
              "      div.appendChild(label);\n",
              "      const progress = document.createElement('progress');\n",
              "      progress.max = size;\n",
              "      div.appendChild(progress);\n",
              "      document.body.appendChild(div);\n",
              "\n",
              "      const buffers = [];\n",
              "      let downloaded = 0;\n",
              "\n",
              "      const channel = await google.colab.kernel.comms.open(id);\n",
              "      // Send a message to notify the kernel that we're ready.\n",
              "      channel.send({})\n",
              "\n",
              "      for await (const message of channel.messages) {\n",
              "        // Send a message to notify the kernel that we're ready.\n",
              "        channel.send({})\n",
              "        if (message.buffers) {\n",
              "          for (const buffer of message.buffers) {\n",
              "            buffers.push(buffer);\n",
              "            downloaded += buffer.byteLength;\n",
              "            progress.value = downloaded;\n",
              "          }\n",
              "        }\n",
              "      }\n",
              "      const blob = new Blob(buffers, {type: 'application/binary'});\n",
              "      const a = document.createElement('a');\n",
              "      a.href = window.URL.createObjectURL(blob);\n",
              "      a.download = filename;\n",
              "      div.appendChild(a);\n",
              "      a.click();\n",
              "      div.remove();\n",
              "    }\n",
              "  "
            ]
          },
          "metadata": {}
        },
        {
          "output_type": "display_data",
          "data": {
            "text/plain": [
              "<IPython.core.display.Javascript object>"
            ],
            "application/javascript": [
              "download(\"download_a87989bb-9140-4241-9f2a-6358491cbc96\", \"model_precision_summary.xlsx\", 5233)"
            ]
          },
          "metadata": {}
        }
      ]
    }
  ]
}